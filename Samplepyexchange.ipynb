{
 "cells": [
  {
   "cell_type": "code",
   "execution_count": 1,
   "metadata": {},
   "outputs": [
    {
     "name": "stdout",
     "output_type": "stream",
     "text": [
      "Welcome to my website!\n",
      "Have a nice day!\n"
     ]
    }
   ],
   "source": [
    "# variables\n",
    "a = 10\n",
    "b = 20\n",
    "\n",
    "# function\n",
    "def func():\n",
    "    return \"Do you enjoy programming?\"\n",
    "\n",
    "# Output text to the screen\n",
    "print(\"Welcome to my website!\")\n",
    "\n",
    "if __name__ == '__main__':\n",
    "    print(\"Have a nice day!\")"
   ]
  },
  {
   "cell_type": "code",
   "execution_count": null,
   "metadata": {},
   "outputs": [],
   "source": []
  }
 ],
 "metadata": {
  "kernelspec": {
   "display_name": "Python 3",
   "language": "python",
   "name": "python3"
  },
  "language_info": {
   "codemirror_mode": {
    "name": "ipython",
    "version": 3
   },
   "file_extension": ".py",
   "mimetype": "text/x-python",
   "name": "python",
   "nbconvert_exporter": "python",
   "pygments_lexer": "ipython3",
   "version": "3.7.6"
  }
 },
 "nbformat": 4,
 "nbformat_minor": 4
}
