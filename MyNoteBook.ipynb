{
 "cells": [
  {
   "cell_type": "code",
   "execution_count": 7,
   "metadata": {},
   "outputs": [
    {
     "name": "stdout",
     "output_type": "stream",
     "text": [
      "pythonプログラミングを始めようじゃないか！\n"
     ]
    }
   ],
   "source": [
    "print(\"pythonプログラミングを始めようじゃないか！\")"
   ]
  },
  {
   "cell_type": "code",
   "execution_count": 8,
   "metadata": {},
   "outputs": [],
   "source": [
    "x=10"
   ]
  },
  {
   "cell_type": "code",
   "execution_count": 9,
   "metadata": {},
   "outputs": [
    {
     "name": "stdout",
     "output_type": "stream",
     "text": [
      "10\n"
     ]
    }
   ],
   "source": [
    "print(x)"
   ]
  },
  {
   "cell_type": "code",
   "execution_count": 10,
   "metadata": {},
   "outputs": [],
   "source": [
    "from statistics import*"
   ]
  },
  {
   "cell_type": "code",
   "execution_count": 11,
   "metadata": {},
   "outputs": [
    {
     "name": "stdout",
     "output_type": "stream",
     "text": [
      "68\n"
     ]
    }
   ],
   "source": [
    "# リスト型変数の定義\n",
    "my_list = {72, 81, 55, 63, 69}\n",
    "\n",
    "# 変数yにmy_listの平均値を格納\n",
    "y = mean(my_list)\n",
    "\n",
    "print(y)"
   ]
  },
  {
   "cell_type": "code",
   "execution_count": 12,
   "metadata": {},
   "outputs": [
    {
     "name": "stdout",
     "output_type": "stream",
     "text": [
      " ドライブ C のボリューム ラベルがありません。\n",
      " ボリューム シリアル番号は 3C50-9B98 です\n",
      "\n",
      " C:\\Users\\JT のディレクトリ\n",
      "\n",
      "2020/06/06  17:07    <DIR>          .\n",
      "2020/06/06  17:07    <DIR>          ..\n",
      "2020/06/04  07:55    <DIR>          .conda\n",
      "2020/05/25  23:10                43 .condarc\n",
      "2020/05/22  04:15    <DIR>          .continuum\n",
      "2020/05/18  23:17    <DIR>          .idlerc\n",
      "2020/06/06  14:47    <DIR>          .ipynb_checkpoints\n",
      "2020/05/22  04:16    <DIR>          .ipython\n",
      "2020/05/22  04:20    <DIR>          .jupyter\n",
      "2020/05/26  01:08    <DIR>          .vscode\n",
      "2020/06/06  14:40    <DIR>          __pycache__\n",
      "2020/05/31  03:47    <DIR>          3D Objects\n",
      "2020/06/06  17:22    <DIR>          anaconda3\n",
      "2020/05/31  03:47    <DIR>          Contacts\n",
      "2020/06/06  16:13    <DIR>          Desktop\n",
      "2020/06/04  07:04    <DIR>          Documents\n",
      "2020/06/06  16:53    <DIR>          Downloads\n",
      "2020/05/31  03:47    <DIR>          Favorites\n",
      "2020/06/06  13:45             5,102 Kame1.ipynb\n",
      "2020/05/31  03:47    <DIR>          Links\n",
      "2020/03/07  04:24    <DIR>          Microsoft\n",
      "2020/06/06  14:44             1,662 Modue_call.ipynb\n",
      "2020/05/31  03:47    <DIR>          Music\n",
      "2020/06/03  03:57    <DIR>          MyHome\n",
      "2020/06/06  15:14             2,030 MyNoteBook.ipynb\n",
      "2020/06/06  17:09    <DIR>          OneDrive\n",
      "2020/05/31  03:47    <DIR>          Pictures\n",
      "2020/06/06  13:53             1,036 Samplepyexchange.ipynb\n",
      "2020/06/06  14:14               279 Samplepyexchange.py\n",
      "2020/05/31  03:47    <DIR>          Saved Games\n",
      "2020/05/31  03:47    <DIR>          Searches\n",
      "2020/05/31  03:04               847 Tashizan1.ipynb\n",
      "2020/05/31  03:47    <DIR>          Videos\n",
      "               7 個のファイル              10,999 バイト\n",
      "              26 個のディレクトリ  94,553,690,112 バイトの空き領域\n"
     ]
    }
   ],
   "source": [
    "%ls"
   ]
  },
  {
   "cell_type": "code",
   "execution_count": null,
   "metadata": {},
   "outputs": [],
   "source": []
  }
 ],
 "metadata": {
  "kernelspec": {
   "display_name": "Python 3",
   "language": "python",
   "name": "python3"
  },
  "language_info": {
   "codemirror_mode": {
    "name": "ipython",
    "version": 3
   },
   "file_extension": ".py",
   "mimetype": "text/x-python",
   "name": "python",
   "nbconvert_exporter": "python",
   "pygments_lexer": "ipython3",
   "version": "3.7.6"
  }
 },
 "nbformat": 4,
 "nbformat_minor": 4
}
