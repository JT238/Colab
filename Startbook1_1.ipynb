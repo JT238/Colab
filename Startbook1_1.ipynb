{
  "nbformat": 4,
  "nbformat_minor": 0,
  "metadata": {
    "colab": {
      "name": "Startbook1_1.ipynb",
      "provenance": [],
      "collapsed_sections": [
        "rrctvm7PY3-P",
        "PQ38zjgjcTud",
        "ku6E2ZZzifps",
        "7ytBA37xHjTY",
        "2Q5SlLalKERw",
        "62uQiB03SwXF",
        "wWMlVQKXTwpz",
        "ELD5lXyqT3mE",
        "l222kHFkUNhJ",
        "gJU7wXtKVUw8"
      ],
      "authorship_tag": "ABX9TyPN1F4VPJkJ9KNhz5jC23HV",
      "include_colab_link": true
    },
    "kernelspec": {
      "name": "python3",
      "display_name": "Python 3"
    }
  },
  "cells": [
    {
      "cell_type": "markdown",
      "metadata": {
        "id": "view-in-github",
        "colab_type": "text"
      },
      "source": [
        "<a href=\"https://colab.research.google.com/github/JT238/Colab/blob/master/Startbook1_1.ipynb\" target=\"_parent\"><img src=\"https://colab.research.google.com/assets/colab-badge.svg\" alt=\"Open In Colab\"/></a>"
      ]
    },
    {
      "cell_type": "markdown",
      "metadata": {
        "id": "qAhJjYVNGSWl",
        "colab_type": "text"
      },
      "source": [
        "# 第1章"
      ]
    },
    {
      "cell_type": "code",
      "metadata": {
        "id": "7V-YEh37UlqK",
        "colab_type": "code",
        "outputId": "bcfdb9aa-6bd7-4344-b801-0b3dafcf1855",
        "colab": {
          "base_uri": "https://localhost:8080/",
          "height": 34
        }
      },
      "source": [
        " 2+6"
      ],
      "execution_count": 0,
      "outputs": [
        {
          "output_type": "execute_result",
          "data": {
            "text/plain": [
              "8"
            ]
          },
          "metadata": {
            "tags": []
          },
          "execution_count": 1
        }
      ]
    },
    {
      "cell_type": "code",
      "metadata": {
        "id": "X0W_mcGMVs3x",
        "colab_type": "code",
        "outputId": "20c11072-0e2c-4c9f-e1a9-6cd2e4f63b26",
        "colab": {
          "base_uri": "https://localhost:8080/",
          "height": 35
        }
      },
      "source": [
        "4/2.5"
      ],
      "execution_count": 0,
      "outputs": [
        {
          "output_type": "execute_result",
          "data": {
            "text/plain": [
              "1.6"
            ]
          },
          "metadata": {
            "tags": []
          },
          "execution_count": 8
        }
      ]
    },
    {
      "cell_type": "code",
      "metadata": {
        "id": "UrcX4wCVWX-Q",
        "colab_type": "code",
        "outputId": "58056bb6-7ddc-49b6-c844-cdc35b47f733",
        "colab": {
          "base_uri": "https://localhost:8080/",
          "height": 35
        }
      },
      "source": [
        "2/5"
      ],
      "execution_count": 0,
      "outputs": [
        {
          "output_type": "execute_result",
          "data": {
            "text/plain": [
              "0.4"
            ]
          },
          "metadata": {
            "tags": []
          },
          "execution_count": 4
        }
      ]
    },
    {
      "cell_type": "code",
      "metadata": {
        "id": "osJ_2bdeWfNj",
        "colab_type": "code",
        "outputId": "7b7d955e-d876-42b1-de4d-2d2e0eb209d5",
        "colab": {
          "base_uri": "https://localhost:8080/",
          "height": 35
        }
      },
      "source": [
        "2.0/4"
      ],
      "execution_count": 0,
      "outputs": [
        {
          "output_type": "execute_result",
          "data": {
            "text/plain": [
              "0.5"
            ]
          },
          "metadata": {
            "tags": []
          },
          "execution_count": 5
        }
      ]
    },
    {
      "cell_type": "code",
      "metadata": {
        "id": "ZHR8ki5AWiAM",
        "colab_type": "code",
        "outputId": "004eebbc-1a5b-4fe4-bfc7-2bb87269b207",
        "colab": {
          "base_uri": "https://localhost:8080/",
          "height": 35
        }
      },
      "source": [
        "2/4.0"
      ],
      "execution_count": 0,
      "outputs": [
        {
          "output_type": "execute_result",
          "data": {
            "text/plain": [
              "0.5"
            ]
          },
          "metadata": {
            "tags": []
          },
          "execution_count": 6
        }
      ]
    },
    {
      "cell_type": "code",
      "metadata": {
        "id": "_SHTDd1NWoyS",
        "colab_type": "code",
        "outputId": "3ed441d7-800c-478e-ae5f-6772c9fa7836",
        "colab": {
          "base_uri": "https://localhost:8080/",
          "height": 35
        }
      },
      "source": [
        "2.0/4.0"
      ],
      "execution_count": 0,
      "outputs": [
        {
          "output_type": "execute_result",
          "data": {
            "text/plain": [
              "0.5"
            ]
          },
          "metadata": {
            "tags": []
          },
          "execution_count": 7
        }
      ]
    },
    {
      "cell_type": "code",
      "metadata": {
        "id": "OfEOyOEuWuFt",
        "colab_type": "code",
        "outputId": "591db5fc-bebe-4740-d463-d263a2f52a12",
        "colab": {
          "base_uri": "https://localhost:8080/",
          "height": 35
        }
      },
      "source": [
        "(1+5)/(2+3)"
      ],
      "execution_count": 0,
      "outputs": [
        {
          "output_type": "execute_result",
          "data": {
            "text/plain": [
              "1.2"
            ]
          },
          "metadata": {
            "tags": []
          },
          "execution_count": 8
        }
      ]
    },
    {
      "cell_type": "code",
      "metadata": {
        "id": "kvsYJGwKW6s8",
        "colab_type": "code",
        "outputId": "4adf7c47-e78f-4382-cb7c-4c9b322d634b",
        "colab": {
          "base_uri": "https://localhost:8080/",
          "height": 35
        }
      },
      "source": [
        "1+5/2+3"
      ],
      "execution_count": 0,
      "outputs": [
        {
          "output_type": "execute_result",
          "data": {
            "text/plain": [
              "6.5"
            ]
          },
          "metadata": {
            "tags": []
          },
          "execution_count": 9
        }
      ]
    },
    {
      "cell_type": "code",
      "metadata": {
        "id": "fdF4XCp3W-xA",
        "colab_type": "code",
        "outputId": "aca196c7-443f-44ca-f9cc-9d3bbe1d4c8f",
        "colab": {
          "base_uri": "https://localhost:8080/",
          "height": 171
        }
      },
      "source": [
        "abc"
      ],
      "execution_count": 0,
      "outputs": [
        {
          "output_type": "error",
          "ename": "NameError",
          "evalue": "ignored",
          "traceback": [
            "\u001b[0;31m---------------------------------------------------------------------------\u001b[0m",
            "\u001b[0;31mNameError\u001b[0m                                 Traceback (most recent call last)",
            "\u001b[0;32m<ipython-input-10-03cfd743661f>\u001b[0m in \u001b[0;36m<module>\u001b[0;34m()\u001b[0m\n\u001b[0;32m----> 1\u001b[0;31m \u001b[0mabc\u001b[0m\u001b[0;34m\u001b[0m\u001b[0;34m\u001b[0m\u001b[0m\n\u001b[0m",
            "\u001b[0;31mNameError\u001b[0m: name 'abc' is not defined"
          ]
        }
      ]
    },
    {
      "cell_type": "code",
      "metadata": {
        "id": "KfsedzWMXScq",
        "colab_type": "code",
        "outputId": "bbd44d40-8b90-4c2f-b988-1f65913d5b51",
        "colab": {
          "base_uri": "https://localhost:8080/",
          "height": 35
        }
      },
      "source": [
        "'abc'"
      ],
      "execution_count": 0,
      "outputs": [
        {
          "output_type": "execute_result",
          "data": {
            "text/plain": [
              "'abc'"
            ]
          },
          "metadata": {
            "tags": []
          },
          "execution_count": 11
        }
      ]
    },
    {
      "cell_type": "code",
      "metadata": {
        "id": "VJ6ekXa1XW6l",
        "colab_type": "code",
        "outputId": "143d4880-b1ca-4048-9008-a4c641ae38b8",
        "colab": {
          "base_uri": "https://localhost:8080/",
          "height": 35
        }
      },
      "source": [
        "'あいうえお'"
      ],
      "execution_count": 0,
      "outputs": [
        {
          "output_type": "execute_result",
          "data": {
            "text/plain": [
              "'あいうえお'"
            ]
          },
          "metadata": {
            "tags": []
          },
          "execution_count": 12
        }
      ]
    },
    {
      "cell_type": "code",
      "metadata": {
        "id": "i4Tv0-XRXcT3",
        "colab_type": "code",
        "outputId": "98098d32-5237-4b60-fa6f-c8f7f2047051",
        "colab": {
          "base_uri": "https://localhost:8080/",
          "height": 35
        }
      },
      "source": [
        "print('あいうえお')"
      ],
      "execution_count": 0,
      "outputs": [
        {
          "output_type": "stream",
          "text": [
            "あいうえお\n"
          ],
          "name": "stdout"
        }
      ]
    },
    {
      "cell_type": "markdown",
      "metadata": {
        "id": "QL2l1wqlYNsY",
        "colab_type": "text"
      },
      "source": [
        "## リスト"
      ]
    },
    {
      "cell_type": "code",
      "metadata": {
        "id": "8i0bCOO4XzYQ",
        "colab_type": "code",
        "outputId": "8dc8497f-3af7-4f10-ed35-69d338c643e1",
        "colab": {
          "base_uri": "https://localhost:8080/",
          "height": 35
        }
      },
      "source": [
        "[1,2,3,4]"
      ],
      "execution_count": 0,
      "outputs": [
        {
          "output_type": "execute_result",
          "data": {
            "text/plain": [
              "[1, 2, 3, 4]"
            ]
          },
          "metadata": {
            "tags": []
          },
          "execution_count": 1
        }
      ]
    },
    {
      "cell_type": "code",
      "metadata": {
        "id": "IAcWe8DAYZTx",
        "colab_type": "code",
        "outputId": "eb96aa52-826b-4abd-8cdd-d361153b2c6a",
        "colab": {
          "base_uri": "https://localhost:8080/",
          "height": 35
        }
      },
      "source": [
        "['one', 'two', 'three']"
      ],
      "execution_count": 0,
      "outputs": [
        {
          "output_type": "execute_result",
          "data": {
            "text/plain": [
              "['one', 'two', 'three']"
            ]
          },
          "metadata": {
            "tags": []
          },
          "execution_count": 2
        }
      ]
    },
    {
      "cell_type": "markdown",
      "metadata": {
        "id": "rrctvm7PY3-P",
        "colab_type": "text"
      },
      "source": [
        "## モジュールを読み込む"
      ]
    },
    {
      "cell_type": "code",
      "metadata": {
        "id": "DXuxGpH4YzZR",
        "colab_type": "code",
        "colab": {}
      },
      "source": [
        "import random"
      ],
      "execution_count": 0,
      "outputs": []
    },
    {
      "cell_type": "code",
      "metadata": {
        "id": "O_F0-UW1ZCYx",
        "colab_type": "code",
        "outputId": "b95cb88c-7ffa-4fd7-a2f3-b487a4d1e77e",
        "colab": {
          "base_uri": "https://localhost:8080/",
          "height": 35
        }
      },
      "source": [
        "random.choice([1,2,3,4,5,6])"
      ],
      "execution_count": 0,
      "outputs": [
        {
          "output_type": "execute_result",
          "data": {
            "text/plain": [
              "4"
            ]
          },
          "metadata": {
            "tags": []
          },
          "execution_count": 4
        }
      ]
    },
    {
      "cell_type": "markdown",
      "metadata": {
        "id": "ku6E2ZZzifps",
        "colab_type": "text"
      },
      "source": [
        "## エディタからコピペ\n",
        "\n",
        "1.   リスト項目\n",
        "2.   リスト項目\n",
        "\n"
      ]
    },
    {
      "cell_type": "code",
      "metadata": {
        "id": "TsEjP55Th8aZ",
        "colab_type": "code",
        "outputId": "7133c0dc-0b6d-494a-fd87-12380572f0dd",
        "colab": {
          "base_uri": "https://localhost:8080/",
          "height": 35
        }
      },
      "source": [
        "import random\n",
        "data = ['goo', 'choki', 'pa']\n",
        "data_choice = random.choice(data)\n",
        "print(data_choice)"
      ],
      "execution_count": 0,
      "outputs": [
        {
          "output_type": "stream",
          "text": [
            "goo\n"
          ],
          "name": "stdout"
        }
      ]
    },
    {
      "cell_type": "markdown",
      "metadata": {
        "id": "qLmGuGHEGguB",
        "colab_type": "text"
      },
      "source": [
        "# 第2章"
      ]
    },
    {
      "cell_type": "markdown",
      "metadata": {
        "id": "7ytBA37xHjTY",
        "colab_type": "text"
      },
      "source": [
        "## Pythonの組み込みデータ型\n",
        "\n",
        "\n",
        "* 整数\n",
        "* 小数\n",
        "* 文字列\n",
        "* 真偽\n",
        "* リスト\n",
        "* 辞書(dict)\n",
        "* タプル(tuple)\n",
        "* セット(set)\n"
      ]
    },
    {
      "cell_type": "markdown",
      "metadata": {
        "id": "2Q5SlLalKERw",
        "colab_type": "text"
      },
      "source": [
        "## 変数\n",
        "  変数名は、アルファベット、数字、アンダースコア、だけ"
      ]
    },
    {
      "cell_type": "code",
      "metadata": {
        "id": "lTRD9xmOjGUq",
        "colab_type": "code",
        "outputId": "3759b698-6fd6-4a16-b00a-a12463cb758e",
        "colab": {
          "base_uri": "https://localhost:8080/",
          "height": 35
        }
      },
      "source": [
        "x = 3\n",
        "x + 3"
      ],
      "execution_count": 0,
      "outputs": [
        {
          "output_type": "execute_result",
          "data": {
            "text/plain": [
              "6"
            ]
          },
          "metadata": {
            "tags": []
          },
          "execution_count": 5
        }
      ]
    },
    {
      "cell_type": "code",
      "metadata": {
        "id": "rhqrDngUKNA2",
        "colab_type": "code",
        "outputId": "6d23fab9-e132-4e0c-dfb0-b767a7cafef4",
        "colab": {
          "base_uri": "https://localhost:8080/",
          "height": 35
        }
      },
      "source": [
        "apple = 100\n",
        "orange = 60\n",
        "apple * 3 + orange *2"
      ],
      "execution_count": 0,
      "outputs": [
        {
          "output_type": "execute_result",
          "data": {
            "text/plain": [
              "420"
            ]
          },
          "metadata": {
            "tags": []
          },
          "execution_count": 7
        }
      ]
    },
    {
      "cell_type": "code",
      "metadata": {
        "id": "vjRrzA3LLGXa",
        "colab_type": "code",
        "outputId": "0713f637-d6ca-471a-c0b1-9c47536e8060",
        "colab": {
          "base_uri": "https://localhost:8080/",
          "height": 35
        }
      },
      "source": [
        "orange = 120\n",
        "apple * 3 + orange * 2"
      ],
      "execution_count": 0,
      "outputs": [
        {
          "output_type": "execute_result",
          "data": {
            "text/plain": [
              "540"
            ]
          },
          "metadata": {
            "tags": []
          },
          "execution_count": 9
        }
      ]
    },
    {
      "cell_type": "markdown",
      "metadata": {
        "id": "sTNs4fXJLxmu",
        "colab_type": "text"
      },
      "source": [
        "小数型で微妙にずれる例"
      ]
    },
    {
      "cell_type": "code",
      "metadata": {
        "id": "4Ncq3AegLUjF",
        "colab_type": "code",
        "outputId": "3f7fd98c-987a-4344-e727-6224fc638b6d",
        "colab": {
          "base_uri": "https://localhost:8080/",
          "height": 35
        }
      },
      "source": [
        "0.1 + 0.1 + 0.1"
      ],
      "execution_count": 0,
      "outputs": [
        {
          "output_type": "execute_result",
          "data": {
            "text/plain": [
              "0.30000000000000004"
            ]
          },
          "metadata": {
            "tags": []
          },
          "execution_count": 11
        }
      ]
    },
    {
      "cell_type": "markdown",
      "metadata": {
        "id": "DzxJeV4lL_XI",
        "colab_type": "text"
      },
      "source": [
        "文字列型"
      ]
    },
    {
      "cell_type": "code",
      "metadata": {
        "id": "IpahbY9HLuIr",
        "colab_type": "code",
        "outputId": "f0cf182b-4170-422e-e604-03e5888bec9b",
        "colab": {
          "base_uri": "https://localhost:8080/",
          "height": 35
        }
      },
      "source": [
        "'moji'"
      ],
      "execution_count": 0,
      "outputs": [
        {
          "output_type": "execute_result",
          "data": {
            "text/plain": [
              "'moji'"
            ]
          },
          "metadata": {
            "tags": []
          },
          "execution_count": 13
        }
      ]
    },
    {
      "cell_type": "code",
      "metadata": {
        "id": "sBuxQyEWMKHd",
        "colab_type": "code",
        "outputId": "d4b2a208-0a52-4376-ca0d-2d52659b01b9",
        "colab": {
          "base_uri": "https://localhost:8080/",
          "height": 35
        }
      },
      "source": [
        "'12.0'"
      ],
      "execution_count": 0,
      "outputs": [
        {
          "output_type": "execute_result",
          "data": {
            "text/plain": [
              "'12.0'"
            ]
          },
          "metadata": {
            "tags": []
          },
          "execution_count": 14
        }
      ]
    },
    {
      "cell_type": "markdown",
      "metadata": {
        "id": "op59peg5MSVl",
        "colab_type": "text"
      },
      "source": [
        "真偽型"
      ]
    },
    {
      "cell_type": "code",
      "metadata": {
        "id": "r2a17XJGMNH6",
        "colab_type": "code",
        "outputId": "e6ae9647-089c-4852-b9fc-ea5e89817b7c",
        "colab": {
          "base_uri": "https://localhost:8080/",
          "height": 35
        }
      },
      "source": [
        "1 > 0.4"
      ],
      "execution_count": 0,
      "outputs": [
        {
          "output_type": "execute_result",
          "data": {
            "text/plain": [
              "True"
            ]
          },
          "metadata": {
            "tags": []
          },
          "execution_count": 16
        }
      ]
    },
    {
      "cell_type": "code",
      "metadata": {
        "id": "23H4EcsPMZ0x",
        "colab_type": "code",
        "outputId": "b6f2bf49-1cdd-43ff-b639-3c035b0ee8ff",
        "colab": {
          "base_uri": "https://localhost:8080/",
          "height": 35
        }
      },
      "source": [
        "1 < 0.4"
      ],
      "execution_count": 0,
      "outputs": [
        {
          "output_type": "execute_result",
          "data": {
            "text/plain": [
              "False"
            ]
          },
          "metadata": {
            "tags": []
          },
          "execution_count": 17
        }
      ]
    },
    {
      "cell_type": "markdown",
      "metadata": {
        "id": "0JCD2tWuN2Mv",
        "colab_type": "text"
      },
      "source": [
        "リスト型"
      ]
    },
    {
      "cell_type": "code",
      "metadata": {
        "id": "2j-Y8FWtMbZE",
        "colab_type": "code",
        "outputId": "b94d26cf-7895-4342-eb02-9acaeab186a9",
        "colab": {
          "base_uri": "https://localhost:8080/",
          "height": 35
        }
      },
      "source": [
        "['a','b','c']"
      ],
      "execution_count": 0,
      "outputs": [
        {
          "output_type": "execute_result",
          "data": {
            "text/plain": [
              "['a', 'b', 'c']"
            ]
          },
          "metadata": {
            "tags": []
          },
          "execution_count": 19
        }
      ]
    },
    {
      "cell_type": "code",
      "metadata": {
        "id": "0zDJIsy3OERL",
        "colab_type": "code",
        "colab": {}
      },
      "source": [
        "abc = ['a', 'b', 'c']"
      ],
      "execution_count": 0,
      "outputs": []
    },
    {
      "cell_type": "code",
      "metadata": {
        "id": "vpfCAb75OfQ6",
        "colab_type": "code",
        "outputId": "137ef577-625c-4134-f6ce-812087525cc8",
        "colab": {
          "base_uri": "https://localhost:8080/",
          "height": 35
        }
      },
      "source": [
        "abc"
      ],
      "execution_count": 0,
      "outputs": [
        {
          "output_type": "execute_result",
          "data": {
            "text/plain": [
              "['a', 'b', 'c']"
            ]
          },
          "metadata": {
            "tags": []
          },
          "execution_count": 24
        }
      ]
    },
    {
      "cell_type": "code",
      "metadata": {
        "id": "k5ATh3buOg0f",
        "colab_type": "code",
        "outputId": "289d20fb-da6d-48b5-af1e-43ca5304d169",
        "colab": {
          "base_uri": "https://localhost:8080/",
          "height": 35
        }
      },
      "source": [
        "abc[0]"
      ],
      "execution_count": 0,
      "outputs": [
        {
          "output_type": "execute_result",
          "data": {
            "text/plain": [
              "'a'"
            ]
          },
          "metadata": {
            "tags": []
          },
          "execution_count": 25
        }
      ]
    },
    {
      "cell_type": "markdown",
      "metadata": {
        "id": "xxzQLeZIPBSq",
        "colab_type": "text"
      },
      "source": [
        " 数値と演算"
      ]
    },
    {
      "cell_type": "code",
      "metadata": {
        "id": "xe6PhEagOlsy",
        "colab_type": "code",
        "outputId": "72a01815-4049-4937-8ab8-39ce7faa5c47",
        "colab": {
          "base_uri": "https://localhost:8080/",
          "height": 35
        }
      },
      "source": [
        "3 + 4"
      ],
      "execution_count": 0,
      "outputs": [
        {
          "output_type": "execute_result",
          "data": {
            "text/plain": [
              "7"
            ]
          },
          "metadata": {
            "tags": []
          },
          "execution_count": 27
        }
      ]
    },
    {
      "cell_type": "code",
      "metadata": {
        "id": "G_Zut33uPJfo",
        "colab_type": "code",
        "outputId": "db17b763-1ab9-4369-a84b-7d16ad06859a",
        "colab": {
          "base_uri": "https://localhost:8080/",
          "height": 35
        }
      },
      "source": [
        "3 - 4"
      ],
      "execution_count": 0,
      "outputs": [
        {
          "output_type": "execute_result",
          "data": {
            "text/plain": [
              "-1"
            ]
          },
          "metadata": {
            "tags": []
          },
          "execution_count": 28
        }
      ]
    },
    {
      "cell_type": "code",
      "metadata": {
        "id": "Z6nTiqIzPLFb",
        "colab_type": "code",
        "outputId": "fae59102-aced-4f01-cc66-73ba1438457f",
        "colab": {
          "base_uri": "https://localhost:8080/",
          "height": 35
        }
      },
      "source": [
        "3 * 4"
      ],
      "execution_count": 0,
      "outputs": [
        {
          "output_type": "execute_result",
          "data": {
            "text/plain": [
              "12"
            ]
          },
          "metadata": {
            "tags": []
          },
          "execution_count": 29
        }
      ]
    },
    {
      "cell_type": "code",
      "metadata": {
        "id": "9T6UwvwuPNu7",
        "colab_type": "code",
        "outputId": "4b38616d-7b17-4ce4-e553-8ba3cf888033",
        "colab": {
          "base_uri": "https://localhost:8080/",
          "height": 35
        }
      },
      "source": [
        "3 / 4"
      ],
      "execution_count": 0,
      "outputs": [
        {
          "output_type": "execute_result",
          "data": {
            "text/plain": [
              "0.75"
            ]
          },
          "metadata": {
            "tags": []
          },
          "execution_count": 30
        }
      ]
    },
    {
      "cell_type": "code",
      "metadata": {
        "id": "Ak0cH-IvPR2j",
        "colab_type": "code",
        "outputId": "0fcaafb4-6ce1-40c4-f4e3-e6cd672cd061",
        "colab": {
          "base_uri": "https://localhost:8080/",
          "height": 35
        }
      },
      "source": [
        "3.0 / 4"
      ],
      "execution_count": 0,
      "outputs": [
        {
          "output_type": "execute_result",
          "data": {
            "text/plain": [
              "0.75"
            ]
          },
          "metadata": {
            "tags": []
          },
          "execution_count": 31
        }
      ]
    },
    {
      "cell_type": "markdown",
      "metadata": {
        "id": "28b5nej4PbkW",
        "colab_type": "text"
      },
      "source": [
        "余り（mod）"
      ]
    },
    {
      "cell_type": "code",
      "metadata": {
        "id": "l7lDFaqGPU20",
        "colab_type": "code",
        "outputId": "adb06fc7-2429-4f04-d478-71fa7410bcde",
        "colab": {
          "base_uri": "https://localhost:8080/",
          "height": 35
        }
      },
      "source": [
        "5%2"
      ],
      "execution_count": 0,
      "outputs": [
        {
          "output_type": "execute_result",
          "data": {
            "text/plain": [
              "1"
            ]
          },
          "metadata": {
            "tags": []
          },
          "execution_count": 32
        }
      ]
    },
    {
      "cell_type": "code",
      "metadata": {
        "id": "QwBfD7m3PYZT",
        "colab_type": "code",
        "outputId": "49db8878-8cf8-4017-d562-714197ee122d",
        "colab": {
          "base_uri": "https://localhost:8080/",
          "height": 35
        }
      },
      "source": [
        "5**2"
      ],
      "execution_count": 0,
      "outputs": [
        {
          "output_type": "execute_result",
          "data": {
            "text/plain": [
              "25"
            ]
          },
          "metadata": {
            "tags": []
          },
          "execution_count": 33
        }
      ]
    },
    {
      "cell_type": "markdown",
      "metadata": {
        "id": "ERvAw5fsPtGe",
        "colab_type": "text"
      },
      "source": [
        "比較演算子と代入演算子"
      ]
    },
    {
      "cell_type": "code",
      "metadata": {
        "id": "vDaeAUjWPkCn",
        "colab_type": "code",
        "colab": {}
      },
      "source": [
        "x = 5"
      ],
      "execution_count": 0,
      "outputs": []
    },
    {
      "cell_type": "code",
      "metadata": {
        "id": "BVF6TATSQAAf",
        "colab_type": "code",
        "colab": {}
      },
      "source": [
        "y = 7"
      ],
      "execution_count": 0,
      "outputs": []
    },
    {
      "cell_type": "code",
      "metadata": {
        "id": "SRTe7HTZQBwL",
        "colab_type": "code",
        "outputId": "fab18086-1e91-4c87-9e09-d20019ff66f0",
        "colab": {
          "base_uri": "https://localhost:8080/",
          "height": 35
        }
      },
      "source": [
        "x == y"
      ],
      "execution_count": 0,
      "outputs": [
        {
          "output_type": "execute_result",
          "data": {
            "text/plain": [
              "False"
            ]
          },
          "metadata": {
            "tags": []
          },
          "execution_count": 37
        }
      ]
    },
    {
      "cell_type": "code",
      "metadata": {
        "id": "yz2fJ6qGQFhs",
        "colab_type": "code",
        "outputId": "75f396be-c749-4fb6-a2dc-b5d861fa043c",
        "colab": {
          "base_uri": "https://localhost:8080/",
          "height": 35
        }
      },
      "source": [
        "x != y"
      ],
      "execution_count": 0,
      "outputs": [
        {
          "output_type": "execute_result",
          "data": {
            "text/plain": [
              "True"
            ]
          },
          "metadata": {
            "tags": []
          },
          "execution_count": 38
        }
      ]
    },
    {
      "cell_type": "code",
      "metadata": {
        "id": "7IERJFaWQIhn",
        "colab_type": "code",
        "colab": {}
      },
      "source": [
        "i = 1"
      ],
      "execution_count": 0,
      "outputs": []
    },
    {
      "cell_type": "markdown",
      "metadata": {
        "id": "6xqyPEPyQZwu",
        "colab_type": "text"
      },
      "source": [
        "i += 2 は、i = i + 2 と同じ"
      ]
    },
    {
      "cell_type": "code",
      "metadata": {
        "id": "KR9MXqPmQM8U",
        "colab_type": "code",
        "colab": {}
      },
      "source": [
        "i += 2"
      ],
      "execution_count": 0,
      "outputs": []
    },
    {
      "cell_type": "code",
      "metadata": {
        "id": "rd9ygogBQQdH",
        "colab_type": "code",
        "outputId": "9d1a2249-bae4-46db-a792-8597d622360a",
        "colab": {
          "base_uri": "https://localhost:8080/",
          "height": 35
        }
      },
      "source": [
        "i"
      ],
      "execution_count": 0,
      "outputs": [
        {
          "output_type": "execute_result",
          "data": {
            "text/plain": [
              "3"
            ]
          },
          "metadata": {
            "tags": []
          },
          "execution_count": 41
        }
      ]
    },
    {
      "cell_type": "markdown",
      "metadata": {
        "id": "62uQiB03SwXF",
        "colab_type": "text"
      },
      "source": [
        "## 道具としての関数"
      ]
    },
    {
      "cell_type": "code",
      "metadata": {
        "id": "5h-vwMH8QRnA",
        "colab_type": "code",
        "outputId": "ba88fb9a-d9a3-420d-e9f6-4846d487612e",
        "colab": {
          "base_uri": "https://localhost:8080/",
          "height": 35
        }
      },
      "source": [
        "len([1,2,3])"
      ],
      "execution_count": 0,
      "outputs": [
        {
          "output_type": "execute_result",
          "data": {
            "text/plain": [
              "3"
            ]
          },
          "metadata": {
            "tags": []
          },
          "execution_count": 44
        }
      ]
    },
    {
      "cell_type": "markdown",
      "metadata": {
        "id": "wWMlVQKXTwpz",
        "colab_type": "text"
      },
      "source": [
        "## str"
      ]
    },
    {
      "cell_type": "code",
      "metadata": {
        "id": "r-MWEgI-S7IP",
        "colab_type": "code",
        "outputId": "732b6c32-0e55-4d3a-cd1a-4731ccb497a7",
        "colab": {
          "base_uri": "https://localhost:8080/",
          "height": 35
        }
      },
      "source": [
        "5 + 2"
      ],
      "execution_count": 0,
      "outputs": [
        {
          "output_type": "execute_result",
          "data": {
            "text/plain": [
              "7"
            ]
          },
          "metadata": {
            "tags": []
          },
          "execution_count": 45
        }
      ]
    },
    {
      "cell_type": "code",
      "metadata": {
        "id": "HCWsOyj4TFdZ",
        "colab_type": "code",
        "outputId": "66a52770-6fc5-4158-dc20-8b4a4046c94d",
        "colab": {
          "base_uri": "https://localhost:8080/",
          "height": 35
        }
      },
      "source": [
        "'abc' + 'xyz'"
      ],
      "execution_count": 0,
      "outputs": [
        {
          "output_type": "execute_result",
          "data": {
            "text/plain": [
              "'abcxyz'"
            ]
          },
          "metadata": {
            "tags": []
          },
          "execution_count": 46
        }
      ]
    },
    {
      "cell_type": "code",
      "metadata": {
        "id": "mUIL6bfpTJK5",
        "colab_type": "code",
        "outputId": "cb2ce6d5-d01b-42e9-f91f-82136588be43",
        "colab": {
          "base_uri": "https://localhost:8080/",
          "height": 171
        }
      },
      "source": [
        "'Python' + 2.7"
      ],
      "execution_count": 0,
      "outputs": [
        {
          "output_type": "error",
          "ename": "TypeError",
          "evalue": "ignored",
          "traceback": [
            "\u001b[0;31m---------------------------------------------------------------------------\u001b[0m",
            "\u001b[0;31mTypeError\u001b[0m                                 Traceback (most recent call last)",
            "\u001b[0;32m<ipython-input-47-6b3633ceb156>\u001b[0m in \u001b[0;36m<module>\u001b[0;34m()\u001b[0m\n\u001b[0;32m----> 1\u001b[0;31m \u001b[0;34m'Python'\u001b[0m \u001b[0;34m+\u001b[0m \u001b[0;36m2.7\u001b[0m\u001b[0;34m\u001b[0m\u001b[0;34m\u001b[0m\u001b[0m\n\u001b[0m",
            "\u001b[0;31mTypeError\u001b[0m: must be str, not float"
          ]
        }
      ]
    },
    {
      "cell_type": "code",
      "metadata": {
        "id": "eAE_vhZ-TPaO",
        "colab_type": "code",
        "outputId": "dc2d9a99-c54d-42fe-f7f6-4fed3c0aec5b",
        "colab": {
          "base_uri": "https://localhost:8080/",
          "height": 35
        }
      },
      "source": [
        "'Python' + '2.7'"
      ],
      "execution_count": 0,
      "outputs": [
        {
          "output_type": "execute_result",
          "data": {
            "text/plain": [
              "'Python2.7'"
            ]
          },
          "metadata": {
            "tags": []
          },
          "execution_count": 48
        }
      ]
    },
    {
      "cell_type": "code",
      "metadata": {
        "id": "5k5Ih58XTWBv",
        "colab_type": "code",
        "colab": {}
      },
      "source": [
        "version = 3.5"
      ],
      "execution_count": 0,
      "outputs": []
    },
    {
      "cell_type": "code",
      "metadata": {
        "id": "010NG4jCTcCf",
        "colab_type": "code",
        "outputId": "0bbbd46d-83b2-4909-d917-085ac6c0a398",
        "colab": {
          "base_uri": "https://localhost:8080/",
          "height": 171
        }
      },
      "source": [
        "'Python' + version"
      ],
      "execution_count": 0,
      "outputs": [
        {
          "output_type": "error",
          "ename": "TypeError",
          "evalue": "ignored",
          "traceback": [
            "\u001b[0;31m---------------------------------------------------------------------------\u001b[0m",
            "\u001b[0;31mTypeError\u001b[0m                                 Traceback (most recent call last)",
            "\u001b[0;32m<ipython-input-50-e3e0eded54dd>\u001b[0m in \u001b[0;36m<module>\u001b[0;34m()\u001b[0m\n\u001b[0;32m----> 1\u001b[0;31m \u001b[0;34m'Python'\u001b[0m \u001b[0;34m+\u001b[0m \u001b[0mversion\u001b[0m\u001b[0;34m\u001b[0m\u001b[0;34m\u001b[0m\u001b[0m\n\u001b[0m",
            "\u001b[0;31mTypeError\u001b[0m: must be str, not float"
          ]
        }
      ]
    },
    {
      "cell_type": "code",
      "metadata": {
        "id": "SU4ESZTWTf_n",
        "colab_type": "code",
        "outputId": "dd0e21f6-2bdc-4462-f394-d3bb841117a8",
        "colab": {
          "base_uri": "https://localhost:8080/",
          "height": 35
        }
      },
      "source": [
        "'Python' + 'version'"
      ],
      "execution_count": 0,
      "outputs": [
        {
          "output_type": "execute_result",
          "data": {
            "text/plain": [
              "'Pythonversion'"
            ]
          },
          "metadata": {
            "tags": []
          },
          "execution_count": 51
        }
      ]
    },
    {
      "cell_type": "code",
      "metadata": {
        "id": "RSgngmh8TkYR",
        "colab_type": "code",
        "outputId": "1718a260-e1d9-408f-e3c7-dc7a55bc6ebc",
        "colab": {
          "base_uri": "https://localhost:8080/",
          "height": 35
        }
      },
      "source": [
        "'Python' + str(version)"
      ],
      "execution_count": 0,
      "outputs": [
        {
          "output_type": "execute_result",
          "data": {
            "text/plain": [
              "'Python3.5'"
            ]
          },
          "metadata": {
            "tags": []
          },
          "execution_count": 52
        }
      ]
    },
    {
      "cell_type": "markdown",
      "metadata": {
        "id": "ELD5lXyqT3mE",
        "colab_type": "text"
      },
      "source": [
        "## print"
      ]
    },
    {
      "cell_type": "code",
      "metadata": {
        "id": "1A-Rd-ZiTp7U",
        "colab_type": "code",
        "colab": {}
      },
      "source": [
        "msg = '日本語'"
      ],
      "execution_count": 0,
      "outputs": []
    },
    {
      "cell_type": "code",
      "metadata": {
        "id": "y-PZLLDuT_Q3",
        "colab_type": "code",
        "outputId": "c156035b-7a75-465c-a429-f199741389d0",
        "colab": {
          "base_uri": "https://localhost:8080/",
          "height": 35
        }
      },
      "source": [
        "msg"
      ],
      "execution_count": 0,
      "outputs": [
        {
          "output_type": "execute_result",
          "data": {
            "text/plain": [
              "'日本語'"
            ]
          },
          "metadata": {
            "tags": []
          },
          "execution_count": 54
        }
      ]
    },
    {
      "cell_type": "code",
      "metadata": {
        "id": "NrrNownSUBXi",
        "colab_type": "code",
        "outputId": "100f8b2b-32da-4666-ac26-4ff04d7be316",
        "colab": {
          "base_uri": "https://localhost:8080/",
          "height": 35
        }
      },
      "source": [
        "print(msg)"
      ],
      "execution_count": 0,
      "outputs": [
        {
          "output_type": "stream",
          "text": [
            "日本語\n"
          ],
          "name": "stdout"
        }
      ]
    },
    {
      "cell_type": "markdown",
      "metadata": {
        "id": "l222kHFkUNhJ",
        "colab_type": "text"
      },
      "source": [
        "## range 整数のリストを作る関数　下記は、2.7なので、後で3のバージョンを確認"
      ]
    },
    {
      "cell_type": "code",
      "metadata": {
        "id": "-euxUKj-UFAD",
        "colab_type": "code",
        "colab": {}
      },
      "source": [
        "number_list = [0,1,2,3,4]"
      ],
      "execution_count": 0,
      "outputs": []
    },
    {
      "cell_type": "code",
      "metadata": {
        "id": "Ly-D84zaUcRG",
        "colab_type": "code",
        "colab": {}
      },
      "source": [
        "number_list_10 = range(10)"
      ],
      "execution_count": 0,
      "outputs": []
    },
    {
      "cell_type": "code",
      "metadata": {
        "id": "sZJaq4FLUqBp",
        "colab_type": "code",
        "outputId": "f18f348b-24dc-44ec-db4b-7325d35a51ef",
        "colab": {
          "base_uri": "https://localhost:8080/",
          "height": 35
        }
      },
      "source": [
        "number_list_10"
      ],
      "execution_count": 0,
      "outputs": [
        {
          "output_type": "execute_result",
          "data": {
            "text/plain": [
              "range(0, 10)"
            ]
          },
          "metadata": {
            "tags": []
          },
          "execution_count": 58
        }
      ]
    },
    {
      "cell_type": "code",
      "metadata": {
        "id": "tJK5QUw8UuDH",
        "colab_type": "code",
        "outputId": "d1ca55a7-de92-4303-a424-89c4ecb9787a",
        "colab": {
          "base_uri": "https://localhost:8080/",
          "height": 35
        }
      },
      "source": [
        "range(1, 11)"
      ],
      "execution_count": 0,
      "outputs": [
        {
          "output_type": "execute_result",
          "data": {
            "text/plain": [
              "range(1, 11)"
            ]
          },
          "metadata": {
            "tags": []
          },
          "execution_count": 59
        }
      ]
    },
    {
      "cell_type": "markdown",
      "metadata": {
        "id": "gJU7wXtKVUw8",
        "colab_type": "text"
      },
      "source": [
        "## メソッド"
      ]
    },
    {
      "cell_type": "code",
      "metadata": {
        "id": "pUWPB_NgU9uz",
        "colab_type": "code",
        "colab": {}
      },
      "source": [
        "address = 'Tokyo,Japan'"
      ],
      "execution_count": 0,
      "outputs": []
    },
    {
      "cell_type": "code",
      "metadata": {
        "id": "VFsKOhtQViAy",
        "colab_type": "code",
        "outputId": "55d729fb-55c0-49f3-97e3-db73052003c4",
        "colab": {
          "base_uri": "https://localhost:8080/",
          "height": 35
        }
      },
      "source": [
        "address.split(',')"
      ],
      "execution_count": 0,
      "outputs": [
        {
          "output_type": "execute_result",
          "data": {
            "text/plain": [
              "['Tokyo', 'Japan']"
            ]
          },
          "metadata": {
            "tags": []
          },
          "execution_count": 61
        }
      ]
    },
    {
      "cell_type": "code",
      "metadata": {
        "id": "JGs2tEOFVmyQ",
        "colab_type": "code",
        "outputId": "381733eb-6d5f-4927-88f6-d51881922fe6",
        "colab": {
          "base_uri": "https://localhost:8080/",
          "height": 35
        }
      },
      "source": [
        "address.split('o')"
      ],
      "execution_count": 0,
      "outputs": [
        {
          "output_type": "execute_result",
          "data": {
            "text/plain": [
              "['T', 'ky', ',Japan']"
            ]
          },
          "metadata": {
            "tags": []
          },
          "execution_count": 62
        }
      ]
    },
    {
      "cell_type": "code",
      "metadata": {
        "id": "AO7-xshqVxNO",
        "colab_type": "code",
        "outputId": "5db96839-5c2d-4416-8874-5d96df7e5ec1",
        "colab": {
          "base_uri": "https://localhost:8080/",
          "height": 35
        }
      },
      "source": [
        "address"
      ],
      "execution_count": 0,
      "outputs": [
        {
          "output_type": "execute_result",
          "data": {
            "text/plain": [
              "'Tokyo,Japan'"
            ]
          },
          "metadata": {
            "tags": []
          },
          "execution_count": 63
        }
      ]
    },
    {
      "cell_type": "code",
      "metadata": {
        "id": "h5GrA1l8V2oa",
        "colab_type": "code",
        "outputId": "75df5c78-64bd-4989-de28-e4ed461b46f2",
        "colab": {
          "base_uri": "https://localhost:8080/",
          "height": 35
        }
      },
      "source": [
        "address.upper()"
      ],
      "execution_count": 0,
      "outputs": [
        {
          "output_type": "execute_result",
          "data": {
            "text/plain": [
              "'TOKYO,JAPAN'"
            ]
          },
          "metadata": {
            "tags": []
          },
          "execution_count": 64
        }
      ]
    },
    {
      "cell_type": "code",
      "metadata": {
        "id": "iNOKBkSHV8dr",
        "colab_type": "code",
        "colab": {}
      },
      "source": [
        "upper_address = address.upper()"
      ],
      "execution_count": 0,
      "outputs": []
    },
    {
      "cell_type": "code",
      "metadata": {
        "id": "YbWb09qYWH8x",
        "colab_type": "code",
        "outputId": "e238f4d7-b01e-4d85-dbd9-149807b18297",
        "colab": {
          "base_uri": "https://localhost:8080/",
          "height": 35
        }
      },
      "source": [
        "address"
      ],
      "execution_count": 0,
      "outputs": [
        {
          "output_type": "execute_result",
          "data": {
            "text/plain": [
              "'Tokyo,Japan'"
            ]
          },
          "metadata": {
            "tags": []
          },
          "execution_count": 66
        }
      ]
    },
    {
      "cell_type": "code",
      "metadata": {
        "id": "T4faO54BWJGJ",
        "colab_type": "code",
        "outputId": "db3ed065-28d7-4995-efca-0195fa4dd6ae",
        "colab": {
          "base_uri": "https://localhost:8080/",
          "height": 35
        }
      },
      "source": [
        "upper_address"
      ],
      "execution_count": 0,
      "outputs": [
        {
          "output_type": "execute_result",
          "data": {
            "text/plain": [
              "'TOKYO,JAPAN'"
            ]
          },
          "metadata": {
            "tags": []
          },
          "execution_count": 67
        }
      ]
    },
    {
      "cell_type": "markdown",
      "metadata": {
        "id": "yw35qTdu4d8w",
        "colab_type": "text"
      },
      "source": [
        "# 3章　データと型のすべて"
      ]
    },
    {
      "cell_type": "code",
      "metadata": {
        "id": "RTTmah40WLKw",
        "colab_type": "code",
        "outputId": "03792de6-b8f2-4467-8137-e0401c514753",
        "colab": {
          "base_uri": "https://localhost:8080/",
          "height": 35
        }
      },
      "source": [
        "address = 'Tokyo,Japan'\n",
        "address.split(',')"
      ],
      "execution_count": 0,
      "outputs": [
        {
          "output_type": "execute_result",
          "data": {
            "text/plain": [
              "['Tokyo', 'Japan']"
            ]
          },
          "metadata": {
            "tags": []
          },
          "execution_count": 5
        }
      ]
    },
    {
      "cell_type": "code",
      "metadata": {
        "id": "IlladA6E3VhU",
        "colab_type": "code",
        "outputId": "21ffba42-f7cc-4353-ecd9-05f51b618eff",
        "colab": {
          "base_uri": "https://localhost:8080/",
          "height": 35
        }
      },
      "source": [
        "address.index"
      ],
      "execution_count": 0,
      "outputs": [
        {
          "output_type": "execute_result",
          "data": {
            "text/plain": [
              "<function str.index>"
            ]
          },
          "metadata": {
            "tags": []
          },
          "execution_count": 6
        }
      ]
    },
    {
      "cell_type": "markdown",
      "metadata": {
        "id": "OfLtVzmSj8bT",
        "colab_type": "text"
      },
      "source": [
        "# 第４章　データの入物"
      ]
    },
    {
      "cell_type": "code",
      "metadata": {
        "id": "JxhSVr_1kzfo",
        "colab_type": "code",
        "outputId": "e803fb3c-ea9b-4b26-a0a8-a298a44c24c1",
        "colab": {
          "base_uri": "https://localhost:8080/",
          "height": 34
        }
      },
      "source": [
        "list_int = [0, 1, 2, 3]\n",
        "print(list_int)"
      ],
      "execution_count": 0,
      "outputs": [
        {
          "output_type": "stream",
          "text": [
            "[0, 1, 2, 3]\n"
          ],
          "name": "stdout"
        }
      ]
    },
    {
      "cell_type": "code",
      "metadata": {
        "id": "60wQPAqBsYwP",
        "colab_type": "code",
        "outputId": "dd521152-8aef-450d-da93-ec0758a5249d",
        "colab": {
          "base_uri": "https://localhost:8080/",
          "height": 34
        }
      },
      "source": [
        "list_mix = [2, 1.732, 'test']\n",
        "print(list_mix)"
      ],
      "execution_count": 0,
      "outputs": [
        {
          "output_type": "stream",
          "text": [
            "[2, 1.732, 'test']\n"
          ],
          "name": "stdout"
        }
      ]
    },
    {
      "cell_type": "code",
      "metadata": {
        "id": "c8jKqRMZs04d",
        "colab_type": "code",
        "outputId": "9dfc33f4-fb8f-4b7f-d283-4a2e2827837b",
        "colab": {
          "base_uri": "https://localhost:8080/",
          "height": 34
        }
      },
      "source": [
        "list_mix[0]"
      ],
      "execution_count": 0,
      "outputs": [
        {
          "output_type": "execute_result",
          "data": {
            "text/plain": [
              "2"
            ]
          },
          "metadata": {
            "tags": []
          },
          "execution_count": 4
        }
      ]
    },
    {
      "cell_type": "code",
      "metadata": {
        "id": "9BMvXBPFtE7r",
        "colab_type": "code",
        "outputId": "2d0cdc25-9389-4034-be49-a8b6a92ae652",
        "colab": {
          "base_uri": "https://localhost:8080/",
          "height": 34
        }
      },
      "source": [
        "len(list_int)"
      ],
      "execution_count": 0,
      "outputs": [
        {
          "output_type": "execute_result",
          "data": {
            "text/plain": [
              "4"
            ]
          },
          "metadata": {
            "tags": []
          },
          "execution_count": 5
        }
      ]
    },
    {
      "cell_type": "code",
      "metadata": {
        "id": "yTn6FetGta5b",
        "colab_type": "code",
        "outputId": "380a4a07-27a6-4e6d-9ca8-31ecde520b9d",
        "colab": {
          "base_uri": "https://localhost:8080/",
          "height": 34
        }
      },
      "source": [
        "len(list_mix)"
      ],
      "execution_count": 0,
      "outputs": [
        {
          "output_type": "execute_result",
          "data": {
            "text/plain": [
              "3"
            ]
          },
          "metadata": {
            "tags": []
          },
          "execution_count": 6
        }
      ]
    },
    {
      "cell_type": "code",
      "metadata": {
        "id": "oW82QAfDtlLN",
        "colab_type": "code",
        "outputId": "bdf448b1-1f31-4953-c4ca-97b2f7e7f355",
        "colab": {
          "base_uri": "https://localhost:8080/",
          "height": 168
        }
      },
      "source": [
        "list_int[4]"
      ],
      "execution_count": 0,
      "outputs": [
        {
          "output_type": "error",
          "ename": "IndexError",
          "evalue": "ignored",
          "traceback": [
            "\u001b[0;31m---------------------------------------------------------------------------\u001b[0m",
            "\u001b[0;31mIndexError\u001b[0m                                Traceback (most recent call last)",
            "\u001b[0;32m<ipython-input-7-95da780323a6>\u001b[0m in \u001b[0;36m<module>\u001b[0;34m()\u001b[0m\n\u001b[0;32m----> 1\u001b[0;31m \u001b[0mlist_int\u001b[0m\u001b[0;34m[\u001b[0m\u001b[0;36m4\u001b[0m\u001b[0;34m]\u001b[0m\u001b[0;34m\u001b[0m\u001b[0;34m\u001b[0m\u001b[0m\n\u001b[0m",
            "\u001b[0;31mIndexError\u001b[0m: list index out of range"
          ]
        }
      ]
    },
    {
      "cell_type": "code",
      "metadata": {
        "id": "Fa4OLBdzuAZ0",
        "colab_type": "code",
        "outputId": "1ad13ace-bdd6-4569-afa6-744e92b35923",
        "colab": {
          "base_uri": "https://localhost:8080/",
          "height": 34
        }
      },
      "source": [
        "list_int[3]"
      ],
      "execution_count": 0,
      "outputs": [
        {
          "output_type": "execute_result",
          "data": {
            "text/plain": [
              "3"
            ]
          },
          "metadata": {
            "tags": []
          },
          "execution_count": 8
        }
      ]
    },
    {
      "cell_type": "code",
      "metadata": {
        "id": "6nC4SlJat5A9",
        "colab_type": "code",
        "outputId": "945ad442-984a-4e44-da99-7fd2121cdfa0",
        "colab": {
          "base_uri": "https://localhost:8080/",
          "height": 34
        }
      },
      "source": [
        "list_int[-1] "
      ],
      "execution_count": 0,
      "outputs": [
        {
          "output_type": "execute_result",
          "data": {
            "text/plain": [
              "3"
            ]
          },
          "metadata": {
            "tags": []
          },
          "execution_count": 9
        }
      ]
    },
    {
      "cell_type": "code",
      "metadata": {
        "id": "x1jJ1wQpuwGe",
        "colab_type": "code",
        "outputId": "68f53fd3-2e17-4ce0-dd7e-32a1bc544b3b",
        "colab": {
          "base_uri": "https://localhost:8080/",
          "height": 34
        }
      },
      "source": [
        "list_int[-2]"
      ],
      "execution_count": 0,
      "outputs": [
        {
          "output_type": "execute_result",
          "data": {
            "text/plain": [
              "2"
            ]
          },
          "metadata": {
            "tags": []
          },
          "execution_count": 11
        }
      ]
    },
    {
      "cell_type": "code",
      "metadata": {
        "id": "cjmpaPAa2BpJ",
        "colab_type": "code",
        "outputId": "b247aaf8-fca7-4d0c-dc4c-547dfc0686e7",
        "colab": {
          "base_uri": "https://localhost:8080/",
          "height": 125
        }
      },
      "source": [
        "dict_tohoku = {'aomori': 1.0,'akita':1.1, 'sendai': 1.2, 'yamagata':1.05, 'fukushima':1.11, 'morioka':1.12}\n",
        "for val in dict_tohoku:\n",
        "  print(val)"
      ],
      "execution_count": 0,
      "outputs": [
        {
          "output_type": "stream",
          "text": [
            "aomori\n",
            "akita\n",
            "sendai\n",
            "yamagata\n",
            "fukushima\n",
            "morioka\n"
          ],
          "name": "stdout"
        }
      ]
    },
    {
      "cell_type": "code",
      "metadata": {
        "id": "PYN9H_qt3iql",
        "colab_type": "code",
        "colab": {}
      },
      "source": [
        ""
      ],
      "execution_count": 0,
      "outputs": []
    }
  ]
}