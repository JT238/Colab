{
  "nbformat": 4,
  "nbformat_minor": 0,
  "metadata": {
    "colab": {
      "name": "Startbook1_1.ipynb",
      "provenance": [],
      "collapsed_sections": [
        "rrctvm7PY3-P",
        "PQ38zjgjcTud",
        "ku6E2ZZzifps",
        "7ytBA37xHjTY",
        "2Q5SlLalKERw",
        "62uQiB03SwXF",
        "wWMlVQKXTwpz",
        "ELD5lXyqT3mE",
        "l222kHFkUNhJ",
        "gJU7wXtKVUw8"
      ],
      "authorship_tag": "ABX9TyOx5M8DPA/KboLP5EDdY928",
      "include_colab_link": true
    },
    "kernelspec": {
      "name": "python3",
      "display_name": "Python 3"
    }
  },
  "cells": [
    {
      "cell_type": "markdown",
      "metadata": {
        "id": "view-in-github",
        "colab_type": "text"
      },
      "source": [
        "<a href=\"https://colab.research.google.com/github/JT238/Colab/blob/master/Startbook1_1.ipynb\" target=\"_parent\"><img src=\"https://colab.research.google.com/assets/colab-badge.svg\" alt=\"Open In Colab\"/></a>"
      ]
    },
    {
      "cell_type": "markdown",
      "metadata": {
        "id": "qAhJjYVNGSWl",
        "colab_type": "text"
      },
      "source": [
        "# 第1章"
      ]
    },
    {
      "cell_type": "code",
      "metadata": {
        "id": "7V-YEh37UlqK",
        "colab_type": "code",
        "outputId": "46f30e1f-fa91-4b3e-8256-cb53027c9095",
        "colab": {
          "base_uri": "https://localhost:8080/",
          "height": 35
        }
      },
      "source": [
        " 2+10"
      ],
      "execution_count": 5,
      "outputs": [
        {
          "output_type": "execute_result",
          "data": {
            "text/plain": [
              "12"
            ]
          },
          "metadata": {
            "tags": []
          },
          "execution_count": 5
        }
      ]
    },
    {
      "cell_type": "code",
      "metadata": {
        "id": "X0W_mcGMVs3x",
        "colab_type": "code",
        "outputId": "e4b6574a-9f6a-4a8e-c116-2dd798714d4b",
        "colab": {
          "base_uri": "https://localhost:8080/",
          "height": 35
        }
      },
      "source": [
        "4/2.5"
      ],
      "execution_count": 6,
      "outputs": [
        {
          "output_type": "execute_result",
          "data": {
            "text/plain": [
              "1.6"
            ]
          },
          "metadata": {
            "tags": []
          },
          "execution_count": 6
        }
      ]
    },
    {
      "cell_type": "code",
      "metadata": {
        "id": "UrcX4wCVWX-Q",
        "colab_type": "code",
        "outputId": "63393fc8-c681-434b-b132-81774f8309a1",
        "colab": {
          "base_uri": "https://localhost:8080/",
          "height": 35
        }
      },
      "source": [
        "2/5"
      ],
      "execution_count": 7,
      "outputs": [
        {
          "output_type": "execute_result",
          "data": {
            "text/plain": [
              "0.4"
            ]
          },
          "metadata": {
            "tags": []
          },
          "execution_count": 7
        }
      ]
    },
    {
      "cell_type": "code",
      "metadata": {
        "id": "osJ_2bdeWfNj",
        "colab_type": "code",
        "outputId": "db9c1692-c750-47fc-94f8-bf08ac02a8bb",
        "colab": {
          "base_uri": "https://localhost:8080/",
          "height": 35
        }
      },
      "source": [
        "2.0/4"
      ],
      "execution_count": 12,
      "outputs": [
        {
          "output_type": "execute_result",
          "data": {
            "text/plain": [
              "0.5"
            ]
          },
          "metadata": {
            "tags": []
          },
          "execution_count": 12
        }
      ]
    },
    {
      "cell_type": "code",
      "metadata": {
        "id": "ZHR8ki5AWiAM",
        "colab_type": "code",
        "outputId": "729155e6-1ff3-408f-affa-281879abfb23",
        "colab": {
          "base_uri": "https://localhost:8080/",
          "height": 35
        }
      },
      "source": [
        "2/4.0"
      ],
      "execution_count": 13,
      "outputs": [
        {
          "output_type": "execute_result",
          "data": {
            "text/plain": [
              "0.5"
            ]
          },
          "metadata": {
            "tags": []
          },
          "execution_count": 13
        }
      ]
    },
    {
      "cell_type": "code",
      "metadata": {
        "id": "_SHTDd1NWoyS",
        "colab_type": "code",
        "outputId": "82636cca-d708-4fb4-8c59-9d36ea77e2f8",
        "colab": {
          "base_uri": "https://localhost:8080/",
          "height": 35
        }
      },
      "source": [
        "2.0/4.0"
      ],
      "execution_count": 14,
      "outputs": [
        {
          "output_type": "execute_result",
          "data": {
            "text/plain": [
              "0.5"
            ]
          },
          "metadata": {
            "tags": []
          },
          "execution_count": 14
        }
      ]
    },
    {
      "cell_type": "code",
      "metadata": {
        "id": "OfEOyOEuWuFt",
        "colab_type": "code",
        "outputId": "8eafc3bf-924f-4125-f3be-ed78a0cdf484",
        "colab": {
          "base_uri": "https://localhost:8080/",
          "height": 35
        }
      },
      "source": [
        "(1+5)/(2+3)"
      ],
      "execution_count": 15,
      "outputs": [
        {
          "output_type": "execute_result",
          "data": {
            "text/plain": [
              "1.2"
            ]
          },
          "metadata": {
            "tags": []
          },
          "execution_count": 15
        }
      ]
    },
    {
      "cell_type": "code",
      "metadata": {
        "id": "kvsYJGwKW6s8",
        "colab_type": "code",
        "outputId": "dd6fec7f-7c4f-4e42-b595-fecbacbb39b5",
        "colab": {
          "base_uri": "https://localhost:8080/",
          "height": 35
        }
      },
      "source": [
        "1+5/2+3"
      ],
      "execution_count": 16,
      "outputs": [
        {
          "output_type": "execute_result",
          "data": {
            "text/plain": [
              "6.5"
            ]
          },
          "metadata": {
            "tags": []
          },
          "execution_count": 16
        }
      ]
    },
    {
      "cell_type": "code",
      "metadata": {
        "id": "fdF4XCp3W-xA",
        "colab_type": "code",
        "outputId": "1f4a92d3-7d94-44c1-ae2c-c614051d1337",
        "colab": {
          "base_uri": "https://localhost:8080/",
          "height": 171
        }
      },
      "source": [
        "abc"
      ],
      "execution_count": 17,
      "outputs": [
        {
          "output_type": "error",
          "ename": "NameError",
          "evalue": "ignored",
          "traceback": [
            "\u001b[0;31m---------------------------------------------------------------------------\u001b[0m",
            "\u001b[0;31mNameError\u001b[0m                                 Traceback (most recent call last)",
            "\u001b[0;32m<ipython-input-17-03cfd743661f>\u001b[0m in \u001b[0;36m<module>\u001b[0;34m()\u001b[0m\n\u001b[0;32m----> 1\u001b[0;31m \u001b[0mabc\u001b[0m\u001b[0;34m\u001b[0m\u001b[0;34m\u001b[0m\u001b[0m\n\u001b[0m",
            "\u001b[0;31mNameError\u001b[0m: name 'abc' is not defined"
          ]
        }
      ]
    },
    {
      "cell_type": "code",
      "metadata": {
        "id": "KfsedzWMXScq",
        "colab_type": "code",
        "outputId": "44565127-37ba-4085-d5bc-15b04075fe83",
        "colab": {
          "base_uri": "https://localhost:8080/",
          "height": 35
        }
      },
      "source": [
        "'abc'"
      ],
      "execution_count": 18,
      "outputs": [
        {
          "output_type": "execute_result",
          "data": {
            "text/plain": [
              "'abc'"
            ]
          },
          "metadata": {
            "tags": []
          },
          "execution_count": 18
        }
      ]
    },
    {
      "cell_type": "code",
      "metadata": {
        "id": "VJ6ekXa1XW6l",
        "colab_type": "code",
        "outputId": "26d8940a-2d88-4ed1-939b-85fbc560a2b5",
        "colab": {
          "base_uri": "https://localhost:8080/",
          "height": 35
        }
      },
      "source": [
        "'あいうえお'"
      ],
      "execution_count": 19,
      "outputs": [
        {
          "output_type": "execute_result",
          "data": {
            "text/plain": [
              "'あいうえお'"
            ]
          },
          "metadata": {
            "tags": []
          },
          "execution_count": 19
        }
      ]
    },
    {
      "cell_type": "code",
      "metadata": {
        "id": "i4Tv0-XRXcT3",
        "colab_type": "code",
        "outputId": "a9cef9b1-dae9-4a9d-d1f9-a3e966bdfb2b",
        "colab": {
          "base_uri": "https://localhost:8080/",
          "height": 35
        }
      },
      "source": [
        "print('あいうえお')"
      ],
      "execution_count": 20,
      "outputs": [
        {
          "output_type": "stream",
          "text": [
            "あいうえお\n"
          ],
          "name": "stdout"
        }
      ]
    },
    {
      "cell_type": "markdown",
      "metadata": {
        "id": "QL2l1wqlYNsY",
        "colab_type": "text"
      },
      "source": [
        "## リスト"
      ]
    },
    {
      "cell_type": "code",
      "metadata": {
        "id": "8i0bCOO4XzYQ",
        "colab_type": "code",
        "outputId": "e3091f07-c058-4d29-a984-6a42286dff68",
        "colab": {
          "base_uri": "https://localhost:8080/",
          "height": 35
        }
      },
      "source": [
        "[1,2,3,4]"
      ],
      "execution_count": 21,
      "outputs": [
        {
          "output_type": "execute_result",
          "data": {
            "text/plain": [
              "[1, 2, 3, 4]"
            ]
          },
          "metadata": {
            "tags": []
          },
          "execution_count": 21
        }
      ]
    },
    {
      "cell_type": "code",
      "metadata": {
        "id": "IAcWe8DAYZTx",
        "colab_type": "code",
        "outputId": "49d4af6b-297b-4015-d8b2-40850af1a067",
        "colab": {
          "base_uri": "https://localhost:8080/",
          "height": 35
        }
      },
      "source": [
        "['one', 'two', 'three']"
      ],
      "execution_count": 22,
      "outputs": [
        {
          "output_type": "execute_result",
          "data": {
            "text/plain": [
              "['one', 'two', 'three']"
            ]
          },
          "metadata": {
            "tags": []
          },
          "execution_count": 22
        }
      ]
    },
    {
      "cell_type": "markdown",
      "metadata": {
        "id": "rrctvm7PY3-P",
        "colab_type": "text"
      },
      "source": [
        "## モジュールを読み込む"
      ]
    },
    {
      "cell_type": "code",
      "metadata": {
        "id": "DXuxGpH4YzZR",
        "colab_type": "code",
        "colab": {}
      },
      "source": [
        "import random"
      ],
      "execution_count": 0,
      "outputs": []
    },
    {
      "cell_type": "code",
      "metadata": {
        "id": "O_F0-UW1ZCYx",
        "colab_type": "code",
        "outputId": "85f8a747-cac2-4ce3-eede-54d162d7f4b7",
        "colab": {
          "base_uri": "https://localhost:8080/",
          "height": 35
        }
      },
      "source": [
        "random.choice([1,2,3,4,5,6])"
      ],
      "execution_count": 24,
      "outputs": [
        {
          "output_type": "execute_result",
          "data": {
            "text/plain": [
              "6"
            ]
          },
          "metadata": {
            "tags": []
          },
          "execution_count": 24
        }
      ]
    },
    {
      "cell_type": "markdown",
      "metadata": {
        "id": "ku6E2ZZzifps",
        "colab_type": "text"
      },
      "source": [
        "## エディタからコピペ\n",
        "\n",
        "1.   リスト項目\n",
        "2.   リスト項目\n",
        "\n"
      ]
    },
    {
      "cell_type": "code",
      "metadata": {
        "id": "TsEjP55Th8aZ",
        "colab_type": "code",
        "outputId": "d5d51720-a378-4d99-f349-cb9a7f477540",
        "colab": {
          "base_uri": "https://localhost:8080/",
          "height": 35
        }
      },
      "source": [
        "import random\n",
        "data = ['グー', 'チョキ', 'パー']\n",
        "data_choice = random.choice(data)\n",
        "print(data_choice)"
      ],
      "execution_count": 28,
      "outputs": [
        {
          "output_type": "stream",
          "text": [
            "チョキ\n"
          ],
          "name": "stdout"
        }
      ]
    },
    {
      "cell_type": "markdown",
      "metadata": {
        "id": "qLmGuGHEGguB",
        "colab_type": "text"
      },
      "source": [
        "# 第2章"
      ]
    },
    {
      "cell_type": "markdown",
      "metadata": {
        "id": "7ytBA37xHjTY",
        "colab_type": "text"
      },
      "source": [
        "## Pythonの組み込みデータ型\n",
        "\n",
        "\n",
        "* 整数\n",
        "* 小数\n",
        "* 文字列\n",
        "* 真偽\n",
        "* リスト\n",
        "* 辞書(dict)\n",
        "* タプル(tuple)\n",
        "* セット(set)\n"
      ]
    },
    {
      "cell_type": "markdown",
      "metadata": {
        "id": "2Q5SlLalKERw",
        "colab_type": "text"
      },
      "source": [
        "## 変数\n",
        "  変数名は、アルファベット、数字、アンダースコア、だけ"
      ]
    },
    {
      "cell_type": "code",
      "metadata": {
        "id": "rhqrDngUKNA2",
        "colab_type": "code",
        "outputId": "9c156c82-93de-4979-f339-bc3e68eea247",
        "colab": {
          "base_uri": "https://localhost:8080/",
          "height": 35
        }
      },
      "source": [
        "apple = 100\n",
        "orange = 60\n",
        "apple * 3 + orange *2"
      ],
      "execution_count": 29,
      "outputs": [
        {
          "output_type": "execute_result",
          "data": {
            "text/plain": [
              "420"
            ]
          },
          "metadata": {
            "tags": []
          },
          "execution_count": 29
        }
      ]
    },
    {
      "cell_type": "code",
      "metadata": {
        "id": "lTRD9xmOjGUq",
        "colab_type": "code",
        "outputId": "a368fa7c-650b-42cc-f643-4703a6ff4e4d",
        "colab": {
          "base_uri": "https://localhost:8080/",
          "height": 35
        }
      },
      "source": [
        "x = 3\n",
        "x + 3"
      ],
      "execution_count": 30,
      "outputs": [
        {
          "output_type": "execute_result",
          "data": {
            "text/plain": [
              "6"
            ]
          },
          "metadata": {
            "tags": []
          },
          "execution_count": 30
        }
      ]
    },
    {
      "cell_type": "code",
      "metadata": {
        "id": "vjRrzA3LLGXa",
        "colab_type": "code",
        "outputId": "d5648a99-06a5-4e16-ecee-aa25c200c7ad",
        "colab": {
          "base_uri": "https://localhost:8080/",
          "height": 35
        }
      },
      "source": [
        "orange = 140\n",
        "apple * 3 + orange * 2"
      ],
      "execution_count": 31,
      "outputs": [
        {
          "output_type": "execute_result",
          "data": {
            "text/plain": [
              "580"
            ]
          },
          "metadata": {
            "tags": []
          },
          "execution_count": 31
        }
      ]
    },
    {
      "cell_type": "markdown",
      "metadata": {
        "id": "sTNs4fXJLxmu",
        "colab_type": "text"
      },
      "source": [
        "小数型で微妙にずれる例"
      ]
    },
    {
      "cell_type": "code",
      "metadata": {
        "id": "4Ncq3AegLUjF",
        "colab_type": "code",
        "outputId": "4674150c-cf65-4c21-c4a5-c9783f5316bb",
        "colab": {
          "base_uri": "https://localhost:8080/",
          "height": 35
        }
      },
      "source": [
        "0.1 + 0.1 + 0.1"
      ],
      "execution_count": 32,
      "outputs": [
        {
          "output_type": "execute_result",
          "data": {
            "text/plain": [
              "0.30000000000000004"
            ]
          },
          "metadata": {
            "tags": []
          },
          "execution_count": 32
        }
      ]
    },
    {
      "cell_type": "markdown",
      "metadata": {
        "id": "DzxJeV4lL_XI",
        "colab_type": "text"
      },
      "source": [
        "文字列型"
      ]
    },
    {
      "cell_type": "code",
      "metadata": {
        "id": "IpahbY9HLuIr",
        "colab_type": "code",
        "outputId": "2ca5e4d5-c79d-4ebc-8807-e5d7dc22ce05",
        "colab": {
          "base_uri": "https://localhost:8080/",
          "height": 35
        }
      },
      "source": [
        "'moji'"
      ],
      "execution_count": 33,
      "outputs": [
        {
          "output_type": "execute_result",
          "data": {
            "text/plain": [
              "'moji'"
            ]
          },
          "metadata": {
            "tags": []
          },
          "execution_count": 33
        }
      ]
    },
    {
      "cell_type": "code",
      "metadata": {
        "id": "sBuxQyEWMKHd",
        "colab_type": "code",
        "outputId": "de8fca8c-b44e-48fa-8f77-3fbce9756004",
        "colab": {
          "base_uri": "https://localhost:8080/",
          "height": 35
        }
      },
      "source": [
        "'12.0'"
      ],
      "execution_count": 34,
      "outputs": [
        {
          "output_type": "execute_result",
          "data": {
            "text/plain": [
              "'12.0'"
            ]
          },
          "metadata": {
            "tags": []
          },
          "execution_count": 34
        }
      ]
    },
    {
      "cell_type": "markdown",
      "metadata": {
        "id": "op59peg5MSVl",
        "colab_type": "text"
      },
      "source": [
        "真偽型"
      ]
    },
    {
      "cell_type": "code",
      "metadata": {
        "id": "r2a17XJGMNH6",
        "colab_type": "code",
        "outputId": "d0a78d00-b589-4f09-82ab-404f57e18738",
        "colab": {
          "base_uri": "https://localhost:8080/",
          "height": 35
        }
      },
      "source": [
        "1 > 0.4"
      ],
      "execution_count": 35,
      "outputs": [
        {
          "output_type": "execute_result",
          "data": {
            "text/plain": [
              "True"
            ]
          },
          "metadata": {
            "tags": []
          },
          "execution_count": 35
        }
      ]
    },
    {
      "cell_type": "code",
      "metadata": {
        "id": "23H4EcsPMZ0x",
        "colab_type": "code",
        "outputId": "8760a937-087c-46c3-a37d-84c2bee9ad1a",
        "colab": {
          "base_uri": "https://localhost:8080/",
          "height": 35
        }
      },
      "source": [
        "1 < 0.4"
      ],
      "execution_count": 36,
      "outputs": [
        {
          "output_type": "execute_result",
          "data": {
            "text/plain": [
              "False"
            ]
          },
          "metadata": {
            "tags": []
          },
          "execution_count": 36
        }
      ]
    },
    {
      "cell_type": "markdown",
      "metadata": {
        "id": "0JCD2tWuN2Mv",
        "colab_type": "text"
      },
      "source": [
        "リスト型"
      ]
    },
    {
      "cell_type": "code",
      "metadata": {
        "id": "2j-Y8FWtMbZE",
        "colab_type": "code",
        "outputId": "21a5c4f3-1dc1-421c-b61c-65cfd66e30ef",
        "colab": {
          "base_uri": "https://localhost:8080/",
          "height": 35
        }
      },
      "source": [
        "['a','b','c']"
      ],
      "execution_count": 37,
      "outputs": [
        {
          "output_type": "execute_result",
          "data": {
            "text/plain": [
              "['a', 'b', 'c']"
            ]
          },
          "metadata": {
            "tags": []
          },
          "execution_count": 37
        }
      ]
    },
    {
      "cell_type": "code",
      "metadata": {
        "id": "0zDJIsy3OERL",
        "colab_type": "code",
        "colab": {}
      },
      "source": [
        "abc = ['a', 'b', 'c']"
      ],
      "execution_count": 0,
      "outputs": []
    },
    {
      "cell_type": "code",
      "metadata": {
        "id": "vpfCAb75OfQ6",
        "colab_type": "code",
        "outputId": "1763906a-4656-443d-9afd-f78e47507e36",
        "colab": {
          "base_uri": "https://localhost:8080/",
          "height": 35
        }
      },
      "source": [
        "abc"
      ],
      "execution_count": 39,
      "outputs": [
        {
          "output_type": "execute_result",
          "data": {
            "text/plain": [
              "['a', 'b', 'c']"
            ]
          },
          "metadata": {
            "tags": []
          },
          "execution_count": 39
        }
      ]
    },
    {
      "cell_type": "code",
      "metadata": {
        "id": "k5ATh3buOg0f",
        "colab_type": "code",
        "outputId": "13bd1e1c-439e-412d-a1d2-7aa9e6a87971",
        "colab": {
          "base_uri": "https://localhost:8080/",
          "height": 35
        }
      },
      "source": [
        "abc[0]"
      ],
      "execution_count": 40,
      "outputs": [
        {
          "output_type": "execute_result",
          "data": {
            "text/plain": [
              "'a'"
            ]
          },
          "metadata": {
            "tags": []
          },
          "execution_count": 40
        }
      ]
    },
    {
      "cell_type": "markdown",
      "metadata": {
        "id": "xxzQLeZIPBSq",
        "colab_type": "text"
      },
      "source": [
        " 数値と演算"
      ]
    },
    {
      "cell_type": "code",
      "metadata": {
        "id": "xe6PhEagOlsy",
        "colab_type": "code",
        "outputId": "43e10f1f-ce94-4e44-e524-e1d971ebf82a",
        "colab": {
          "base_uri": "https://localhost:8080/",
          "height": 35
        }
      },
      "source": [
        "3 + 4"
      ],
      "execution_count": 41,
      "outputs": [
        {
          "output_type": "execute_result",
          "data": {
            "text/plain": [
              "7"
            ]
          },
          "metadata": {
            "tags": []
          },
          "execution_count": 41
        }
      ]
    },
    {
      "cell_type": "code",
      "metadata": {
        "id": "G_Zut33uPJfo",
        "colab_type": "code",
        "outputId": "e584ec64-c590-4fb6-b3ae-c8d497543a5d",
        "colab": {
          "base_uri": "https://localhost:8080/",
          "height": 35
        }
      },
      "source": [
        "3 - 4"
      ],
      "execution_count": 42,
      "outputs": [
        {
          "output_type": "execute_result",
          "data": {
            "text/plain": [
              "-1"
            ]
          },
          "metadata": {
            "tags": []
          },
          "execution_count": 42
        }
      ]
    },
    {
      "cell_type": "code",
      "metadata": {
        "id": "Z6nTiqIzPLFb",
        "colab_type": "code",
        "outputId": "38370c91-967a-4236-db46-1fa2ab19d794",
        "colab": {
          "base_uri": "https://localhost:8080/",
          "height": 35
        }
      },
      "source": [
        "3 * 4"
      ],
      "execution_count": 43,
      "outputs": [
        {
          "output_type": "execute_result",
          "data": {
            "text/plain": [
              "12"
            ]
          },
          "metadata": {
            "tags": []
          },
          "execution_count": 43
        }
      ]
    },
    {
      "cell_type": "code",
      "metadata": {
        "id": "9T6UwvwuPNu7",
        "colab_type": "code",
        "outputId": "fc030abe-197f-47f8-d17a-7de3862e83e4",
        "colab": {
          "base_uri": "https://localhost:8080/",
          "height": 35
        }
      },
      "source": [
        "3 / 4"
      ],
      "execution_count": 44,
      "outputs": [
        {
          "output_type": "execute_result",
          "data": {
            "text/plain": [
              "0.75"
            ]
          },
          "metadata": {
            "tags": []
          },
          "execution_count": 44
        }
      ]
    },
    {
      "cell_type": "code",
      "metadata": {
        "id": "Ak0cH-IvPR2j",
        "colab_type": "code",
        "outputId": "b1c0e58d-bbcd-4abc-8adc-6e4d4b52d19a",
        "colab": {
          "base_uri": "https://localhost:8080/",
          "height": 35
        }
      },
      "source": [
        "3.0 / 4"
      ],
      "execution_count": 45,
      "outputs": [
        {
          "output_type": "execute_result",
          "data": {
            "text/plain": [
              "0.75"
            ]
          },
          "metadata": {
            "tags": []
          },
          "execution_count": 45
        }
      ]
    },
    {
      "cell_type": "markdown",
      "metadata": {
        "id": "28b5nej4PbkW",
        "colab_type": "text"
      },
      "source": [
        "余り（mod）"
      ]
    },
    {
      "cell_type": "code",
      "metadata": {
        "id": "l7lDFaqGPU20",
        "colab_type": "code",
        "outputId": "aa226892-137f-43d5-ecd4-5df1217fc03e",
        "colab": {
          "base_uri": "https://localhost:8080/",
          "height": 35
        }
      },
      "source": [
        "5%2"
      ],
      "execution_count": 46,
      "outputs": [
        {
          "output_type": "execute_result",
          "data": {
            "text/plain": [
              "1"
            ]
          },
          "metadata": {
            "tags": []
          },
          "execution_count": 46
        }
      ]
    },
    {
      "cell_type": "code",
      "metadata": {
        "id": "QwBfD7m3PYZT",
        "colab_type": "code",
        "outputId": "c0d2c39b-4f32-4fab-9c82-86d54fded78e",
        "colab": {
          "base_uri": "https://localhost:8080/",
          "height": 35
        }
      },
      "source": [
        "5**2"
      ],
      "execution_count": 47,
      "outputs": [
        {
          "output_type": "execute_result",
          "data": {
            "text/plain": [
              "25"
            ]
          },
          "metadata": {
            "tags": []
          },
          "execution_count": 47
        }
      ]
    },
    {
      "cell_type": "markdown",
      "metadata": {
        "id": "ERvAw5fsPtGe",
        "colab_type": "text"
      },
      "source": [
        "比較演算子と代入演算子"
      ]
    },
    {
      "cell_type": "code",
      "metadata": {
        "id": "vDaeAUjWPkCn",
        "colab_type": "code",
        "colab": {}
      },
      "source": [
        "x = 5"
      ],
      "execution_count": 0,
      "outputs": []
    },
    {
      "cell_type": "code",
      "metadata": {
        "id": "BVF6TATSQAAf",
        "colab_type": "code",
        "colab": {}
      },
      "source": [
        "y = 7"
      ],
      "execution_count": 0,
      "outputs": []
    },
    {
      "cell_type": "code",
      "metadata": {
        "id": "SRTe7HTZQBwL",
        "colab_type": "code",
        "outputId": "332ce97d-3576-4bd7-fd69-6af4a6cca814",
        "colab": {
          "base_uri": "https://localhost:8080/",
          "height": 35
        }
      },
      "source": [
        "x == y"
      ],
      "execution_count": 50,
      "outputs": [
        {
          "output_type": "execute_result",
          "data": {
            "text/plain": [
              "False"
            ]
          },
          "metadata": {
            "tags": []
          },
          "execution_count": 50
        }
      ]
    },
    {
      "cell_type": "code",
      "metadata": {
        "id": "yz2fJ6qGQFhs",
        "colab_type": "code",
        "outputId": "f7bb2f61-d0d8-404f-90b3-e9e479f772c0",
        "colab": {
          "base_uri": "https://localhost:8080/",
          "height": 35
        }
      },
      "source": [
        "x != y"
      ],
      "execution_count": 51,
      "outputs": [
        {
          "output_type": "execute_result",
          "data": {
            "text/plain": [
              "True"
            ]
          },
          "metadata": {
            "tags": []
          },
          "execution_count": 51
        }
      ]
    },
    {
      "cell_type": "code",
      "metadata": {
        "id": "7IERJFaWQIhn",
        "colab_type": "code",
        "colab": {}
      },
      "source": [
        "i = 1"
      ],
      "execution_count": 0,
      "outputs": []
    },
    {
      "cell_type": "markdown",
      "metadata": {
        "id": "6xqyPEPyQZwu",
        "colab_type": "text"
      },
      "source": [
        "i += 2 は、i = i + 2 と同じ"
      ]
    },
    {
      "cell_type": "code",
      "metadata": {
        "id": "KR9MXqPmQM8U",
        "colab_type": "code",
        "colab": {}
      },
      "source": [
        "i += 2"
      ],
      "execution_count": 0,
      "outputs": []
    },
    {
      "cell_type": "code",
      "metadata": {
        "id": "rd9ygogBQQdH",
        "colab_type": "code",
        "outputId": "bc99185f-e604-4d74-fb8b-91353b1b016b",
        "colab": {
          "base_uri": "https://localhost:8080/",
          "height": 35
        }
      },
      "source": [
        "i"
      ],
      "execution_count": 54,
      "outputs": [
        {
          "output_type": "execute_result",
          "data": {
            "text/plain": [
              "3"
            ]
          },
          "metadata": {
            "tags": []
          },
          "execution_count": 54
        }
      ]
    },
    {
      "cell_type": "markdown",
      "metadata": {
        "id": "62uQiB03SwXF",
        "colab_type": "text"
      },
      "source": [
        "## 道具としての関数"
      ]
    },
    {
      "cell_type": "code",
      "metadata": {
        "id": "5h-vwMH8QRnA",
        "colab_type": "code",
        "outputId": "27105f69-ce44-4dfe-9ecd-e93519b47ccb",
        "colab": {
          "base_uri": "https://localhost:8080/",
          "height": 35
        }
      },
      "source": [
        "len([1,2,3])"
      ],
      "execution_count": 55,
      "outputs": [
        {
          "output_type": "execute_result",
          "data": {
            "text/plain": [
              "3"
            ]
          },
          "metadata": {
            "tags": []
          },
          "execution_count": 55
        }
      ]
    },
    {
      "cell_type": "markdown",
      "metadata": {
        "id": "wWMlVQKXTwpz",
        "colab_type": "text"
      },
      "source": [
        "## str"
      ]
    },
    {
      "cell_type": "code",
      "metadata": {
        "id": "r-MWEgI-S7IP",
        "colab_type": "code",
        "outputId": "f8a40bb1-9f36-4a65-d313-b284dc0a2e97",
        "colab": {
          "base_uri": "https://localhost:8080/",
          "height": 35
        }
      },
      "source": [
        "5 + 2"
      ],
      "execution_count": 56,
      "outputs": [
        {
          "output_type": "execute_result",
          "data": {
            "text/plain": [
              "7"
            ]
          },
          "metadata": {
            "tags": []
          },
          "execution_count": 56
        }
      ]
    },
    {
      "cell_type": "code",
      "metadata": {
        "id": "HCWsOyj4TFdZ",
        "colab_type": "code",
        "outputId": "971b31ad-04de-44a3-fb98-199cc4393b47",
        "colab": {
          "base_uri": "https://localhost:8080/",
          "height": 35
        }
      },
      "source": [
        "'abc' + 'xyz'"
      ],
      "execution_count": 57,
      "outputs": [
        {
          "output_type": "execute_result",
          "data": {
            "text/plain": [
              "'abcxyz'"
            ]
          },
          "metadata": {
            "tags": []
          },
          "execution_count": 57
        }
      ]
    },
    {
      "cell_type": "code",
      "metadata": {
        "id": "mUIL6bfpTJK5",
        "colab_type": "code",
        "outputId": "98d2f56b-22a8-43b0-d9fb-026ba89195c7",
        "colab": {
          "base_uri": "https://localhost:8080/",
          "height": 171
        }
      },
      "source": [
        "'Python' + 2.7"
      ],
      "execution_count": 58,
      "outputs": [
        {
          "output_type": "error",
          "ename": "TypeError",
          "evalue": "ignored",
          "traceback": [
            "\u001b[0;31m---------------------------------------------------------------------------\u001b[0m",
            "\u001b[0;31mTypeError\u001b[0m                                 Traceback (most recent call last)",
            "\u001b[0;32m<ipython-input-58-6b3633ceb156>\u001b[0m in \u001b[0;36m<module>\u001b[0;34m()\u001b[0m\n\u001b[0;32m----> 1\u001b[0;31m \u001b[0;34m'Python'\u001b[0m \u001b[0;34m+\u001b[0m \u001b[0;36m2.7\u001b[0m\u001b[0;34m\u001b[0m\u001b[0;34m\u001b[0m\u001b[0m\n\u001b[0m",
            "\u001b[0;31mTypeError\u001b[0m: must be str, not float"
          ]
        }
      ]
    },
    {
      "cell_type": "code",
      "metadata": {
        "id": "eAE_vhZ-TPaO",
        "colab_type": "code",
        "outputId": "4d9d3fea-43be-4790-d4df-9f13da87c8a7",
        "colab": {
          "base_uri": "https://localhost:8080/",
          "height": 35
        }
      },
      "source": [
        "'Python' + '2.7'"
      ],
      "execution_count": 59,
      "outputs": [
        {
          "output_type": "execute_result",
          "data": {
            "text/plain": [
              "'Python2.7'"
            ]
          },
          "metadata": {
            "tags": []
          },
          "execution_count": 59
        }
      ]
    },
    {
      "cell_type": "code",
      "metadata": {
        "id": "5k5Ih58XTWBv",
        "colab_type": "code",
        "colab": {}
      },
      "source": [
        "version = 3.5"
      ],
      "execution_count": 0,
      "outputs": []
    },
    {
      "cell_type": "code",
      "metadata": {
        "id": "010NG4jCTcCf",
        "colab_type": "code",
        "outputId": "42d77974-82c8-4db3-cbb7-9e21e704d59c",
        "colab": {
          "base_uri": "https://localhost:8080/",
          "height": 171
        }
      },
      "source": [
        "'Python' + version"
      ],
      "execution_count": 61,
      "outputs": [
        {
          "output_type": "error",
          "ename": "TypeError",
          "evalue": "ignored",
          "traceback": [
            "\u001b[0;31m---------------------------------------------------------------------------\u001b[0m",
            "\u001b[0;31mTypeError\u001b[0m                                 Traceback (most recent call last)",
            "\u001b[0;32m<ipython-input-61-e3e0eded54dd>\u001b[0m in \u001b[0;36m<module>\u001b[0;34m()\u001b[0m\n\u001b[0;32m----> 1\u001b[0;31m \u001b[0;34m'Python'\u001b[0m \u001b[0;34m+\u001b[0m \u001b[0mversion\u001b[0m\u001b[0;34m\u001b[0m\u001b[0;34m\u001b[0m\u001b[0m\n\u001b[0m",
            "\u001b[0;31mTypeError\u001b[0m: must be str, not float"
          ]
        }
      ]
    },
    {
      "cell_type": "code",
      "metadata": {
        "id": "SU4ESZTWTf_n",
        "colab_type": "code",
        "outputId": "499e20dd-a78b-405d-e479-ecdb01eb6662",
        "colab": {
          "base_uri": "https://localhost:8080/",
          "height": 35
        }
      },
      "source": [
        "'Python' + 'version'"
      ],
      "execution_count": 62,
      "outputs": [
        {
          "output_type": "execute_result",
          "data": {
            "text/plain": [
              "'Pythonversion'"
            ]
          },
          "metadata": {
            "tags": []
          },
          "execution_count": 62
        }
      ]
    },
    {
      "cell_type": "code",
      "metadata": {
        "id": "RSgngmh8TkYR",
        "colab_type": "code",
        "outputId": "5f26ac95-6d74-4674-cd9f-49bb228092ff",
        "colab": {
          "base_uri": "https://localhost:8080/",
          "height": 35
        }
      },
      "source": [
        "'Python' + str(version)"
      ],
      "execution_count": 63,
      "outputs": [
        {
          "output_type": "execute_result",
          "data": {
            "text/plain": [
              "'Python3.5'"
            ]
          },
          "metadata": {
            "tags": []
          },
          "execution_count": 63
        }
      ]
    },
    {
      "cell_type": "markdown",
      "metadata": {
        "id": "ELD5lXyqT3mE",
        "colab_type": "text"
      },
      "source": [
        "## print"
      ]
    },
    {
      "cell_type": "code",
      "metadata": {
        "id": "1A-Rd-ZiTp7U",
        "colab_type": "code",
        "colab": {}
      },
      "source": [
        "msg = '日本語'"
      ],
      "execution_count": 0,
      "outputs": []
    },
    {
      "cell_type": "code",
      "metadata": {
        "id": "y-PZLLDuT_Q3",
        "colab_type": "code",
        "outputId": "5995544e-7e3b-467a-b11a-a8debaef8247",
        "colab": {
          "base_uri": "https://localhost:8080/",
          "height": 35
        }
      },
      "source": [
        "msg"
      ],
      "execution_count": 65,
      "outputs": [
        {
          "output_type": "execute_result",
          "data": {
            "text/plain": [
              "'日本語'"
            ]
          },
          "metadata": {
            "tags": []
          },
          "execution_count": 65
        }
      ]
    },
    {
      "cell_type": "code",
      "metadata": {
        "id": "NrrNownSUBXi",
        "colab_type": "code",
        "outputId": "43d245ec-b4f6-48e9-d0eb-5416a5107feb",
        "colab": {
          "base_uri": "https://localhost:8080/",
          "height": 35
        }
      },
      "source": [
        "print(msg)"
      ],
      "execution_count": 66,
      "outputs": [
        {
          "output_type": "stream",
          "text": [
            "日本語\n"
          ],
          "name": "stdout"
        }
      ]
    },
    {
      "cell_type": "markdown",
      "metadata": {
        "id": "l222kHFkUNhJ",
        "colab_type": "text"
      },
      "source": [
        "## range 整数のリストを作る関数　下記は、2.7なので、後で3のバージョンを確認"
      ]
    },
    {
      "cell_type": "code",
      "metadata": {
        "id": "-euxUKj-UFAD",
        "colab_type": "code",
        "colab": {}
      },
      "source": [
        "number_list = [0,1,2,3,4]"
      ],
      "execution_count": 0,
      "outputs": []
    },
    {
      "cell_type": "code",
      "metadata": {
        "id": "7DoPZj6pVR4u",
        "colab_type": "code",
        "colab": {
          "base_uri": "https://localhost:8080/",
          "height": 35
        },
        "outputId": "0d9526ca-ff33-4950-e0ac-9a127748255c"
      },
      "source": [
        "number_list"
      ],
      "execution_count": 72,
      "outputs": [
        {
          "output_type": "execute_result",
          "data": {
            "text/plain": [
              "[0, 1, 2, 3, 4]"
            ]
          },
          "metadata": {
            "tags": []
          },
          "execution_count": 72
        }
      ]
    },
    {
      "cell_type": "code",
      "metadata": {
        "id": "Ly-D84zaUcRG",
        "colab_type": "code",
        "colab": {}
      },
      "source": [
        "number_list_10 = list(range(10)) # python3  の場合,list()を付ける"
      ],
      "execution_count": 0,
      "outputs": []
    },
    {
      "cell_type": "code",
      "metadata": {
        "id": "sZJaq4FLUqBp",
        "colab_type": "code",
        "outputId": "3fb05cf9-167d-4463-f732-b0a9f1d30183",
        "colab": {
          "base_uri": "https://localhost:8080/",
          "height": 35
        }
      },
      "source": [
        "number_list_10"
      ],
      "execution_count": 80,
      "outputs": [
        {
          "output_type": "execute_result",
          "data": {
            "text/plain": [
              "[0, 1, 2, 3, 4, 5, 6, 7, 8, 9]"
            ]
          },
          "metadata": {
            "tags": []
          },
          "execution_count": 80
        }
      ]
    },
    {
      "cell_type": "code",
      "metadata": {
        "id": "tJK5QUw8UuDH",
        "colab_type": "code",
        "outputId": "a6cf3923-4dfc-44ec-a5e2-6be523bb5e7b",
        "colab": {
          "base_uri": "https://localhost:8080/",
          "height": 35
        }
      },
      "source": [
        "list(range(1, 11))"
      ],
      "execution_count": 81,
      "outputs": [
        {
          "output_type": "execute_result",
          "data": {
            "text/plain": [
              "[1, 2, 3, 4, 5, 6, 7, 8, 9, 10]"
            ]
          },
          "metadata": {
            "tags": []
          },
          "execution_count": 81
        }
      ]
    },
    {
      "cell_type": "markdown",
      "metadata": {
        "id": "gJU7wXtKVUw8",
        "colab_type": "text"
      },
      "source": [
        "## メソッド"
      ]
    },
    {
      "cell_type": "code",
      "metadata": {
        "id": "pUWPB_NgU9uz",
        "colab_type": "code",
        "colab": {}
      },
      "source": [
        "address = 'Tokyo,Japan'"
      ],
      "execution_count": 0,
      "outputs": []
    },
    {
      "cell_type": "code",
      "metadata": {
        "id": "VFsKOhtQViAy",
        "colab_type": "code",
        "outputId": "91c97130-ab93-46f4-cd8c-294371aa6365",
        "colab": {
          "base_uri": "https://localhost:8080/",
          "height": 35
        }
      },
      "source": [
        "address.split(',')"
      ],
      "execution_count": 83,
      "outputs": [
        {
          "output_type": "execute_result",
          "data": {
            "text/plain": [
              "['Tokyo', 'Japan']"
            ]
          },
          "metadata": {
            "tags": []
          },
          "execution_count": 83
        }
      ]
    },
    {
      "cell_type": "code",
      "metadata": {
        "id": "JGs2tEOFVmyQ",
        "colab_type": "code",
        "outputId": "fec41d5b-a0be-45be-f3f8-abb88da65ad7",
        "colab": {
          "base_uri": "https://localhost:8080/",
          "height": 35
        }
      },
      "source": [
        "address.split('o')"
      ],
      "execution_count": 84,
      "outputs": [
        {
          "output_type": "execute_result",
          "data": {
            "text/plain": [
              "['T', 'ky', ',Japan']"
            ]
          },
          "metadata": {
            "tags": []
          },
          "execution_count": 84
        }
      ]
    },
    {
      "cell_type": "code",
      "metadata": {
        "id": "AO7-xshqVxNO",
        "colab_type": "code",
        "outputId": "c140bf60-5026-419a-9ef3-453b0cb719b6",
        "colab": {
          "base_uri": "https://localhost:8080/",
          "height": 35
        }
      },
      "source": [
        "address"
      ],
      "execution_count": 85,
      "outputs": [
        {
          "output_type": "execute_result",
          "data": {
            "text/plain": [
              "'Tokyo,Japan'"
            ]
          },
          "metadata": {
            "tags": []
          },
          "execution_count": 85
        }
      ]
    },
    {
      "cell_type": "code",
      "metadata": {
        "id": "h5GrA1l8V2oa",
        "colab_type": "code",
        "outputId": "0836f893-7699-441f-ce96-58eb441c5458",
        "colab": {
          "base_uri": "https://localhost:8080/",
          "height": 35
        }
      },
      "source": [
        "address.upper()"
      ],
      "execution_count": 86,
      "outputs": [
        {
          "output_type": "execute_result",
          "data": {
            "text/plain": [
              "'TOKYO,JAPAN'"
            ]
          },
          "metadata": {
            "tags": []
          },
          "execution_count": 86
        }
      ]
    },
    {
      "cell_type": "code",
      "metadata": {
        "id": "iNOKBkSHV8dr",
        "colab_type": "code",
        "colab": {}
      },
      "source": [
        "upper_address = address.upper()"
      ],
      "execution_count": 0,
      "outputs": []
    },
    {
      "cell_type": "code",
      "metadata": {
        "id": "YbWb09qYWH8x",
        "colab_type": "code",
        "outputId": "74952b92-85ca-4047-fe47-3d87307238b2",
        "colab": {
          "base_uri": "https://localhost:8080/",
          "height": 35
        }
      },
      "source": [
        "address"
      ],
      "execution_count": 88,
      "outputs": [
        {
          "output_type": "execute_result",
          "data": {
            "text/plain": [
              "'Tokyo,Japan'"
            ]
          },
          "metadata": {
            "tags": []
          },
          "execution_count": 88
        }
      ]
    },
    {
      "cell_type": "code",
      "metadata": {
        "id": "T4faO54BWJGJ",
        "colab_type": "code",
        "outputId": "abd8b485-b175-4183-ad26-d08b99f6b852",
        "colab": {
          "base_uri": "https://localhost:8080/",
          "height": 35
        }
      },
      "source": [
        "upper_address"
      ],
      "execution_count": 89,
      "outputs": [
        {
          "output_type": "execute_result",
          "data": {
            "text/plain": [
              "'TOKYO,JAPAN'"
            ]
          },
          "metadata": {
            "tags": []
          },
          "execution_count": 89
        }
      ]
    },
    {
      "cell_type": "markdown",
      "metadata": {
        "id": "yw35qTdu4d8w",
        "colab_type": "text"
      },
      "source": [
        "# 3章　データと型のすべて"
      ]
    },
    {
      "cell_type": "code",
      "metadata": {
        "id": "RTTmah40WLKw",
        "colab_type": "code",
        "outputId": "32e7ce2c-4d98-49ba-c3dd-9351796b0382",
        "colab": {
          "base_uri": "https://localhost:8080/",
          "height": 35
        }
      },
      "source": [
        "address = 'Tokyo,Japan'\n",
        "address.split(',')"
      ],
      "execution_count": 90,
      "outputs": [
        {
          "output_type": "execute_result",
          "data": {
            "text/plain": [
              "['Tokyo', 'Japan']"
            ]
          },
          "metadata": {
            "tags": []
          },
          "execution_count": 90
        }
      ]
    },
    {
      "cell_type": "code",
      "metadata": {
        "id": "IlladA6E3VhU",
        "colab_type": "code",
        "outputId": "e64810b4-bd62-4b4f-9e94-c4a59a71c337",
        "colab": {
          "base_uri": "https://localhost:8080/",
          "height": 35
        }
      },
      "source": [
        "address.index(',') # , が０から始まって何晩目か？"
      ],
      "execution_count": 94,
      "outputs": [
        {
          "output_type": "execute_result",
          "data": {
            "text/plain": [
              "5"
            ]
          },
          "metadata": {
            "tags": []
          },
          "execution_count": 94
        }
      ]
    },
    {
      "cell_type": "markdown",
      "metadata": {
        "id": "OfLtVzmSj8bT",
        "colab_type": "text"
      },
      "source": [
        "# 第４章　データの入物"
      ]
    },
    {
      "cell_type": "code",
      "metadata": {
        "id": "JxhSVr_1kzfo",
        "colab_type": "code",
        "outputId": "e803fb3c-ea9b-4b26-a0a8-a298a44c24c1",
        "colab": {
          "base_uri": "https://localhost:8080/",
          "height": 34
        }
      },
      "source": [
        "list_int = [0, 1, 2, 3]\n",
        "print(list_int)"
      ],
      "execution_count": 0,
      "outputs": [
        {
          "output_type": "stream",
          "text": [
            "[0, 1, 2, 3]\n"
          ],
          "name": "stdout"
        }
      ]
    },
    {
      "cell_type": "code",
      "metadata": {
        "id": "60wQPAqBsYwP",
        "colab_type": "code",
        "outputId": "dd521152-8aef-450d-da93-ec0758a5249d",
        "colab": {
          "base_uri": "https://localhost:8080/",
          "height": 34
        }
      },
      "source": [
        "list_mix = [2, 1.732, 'test']\n",
        "print(list_mix)"
      ],
      "execution_count": 0,
      "outputs": [
        {
          "output_type": "stream",
          "text": [
            "[2, 1.732, 'test']\n"
          ],
          "name": "stdout"
        }
      ]
    },
    {
      "cell_type": "code",
      "metadata": {
        "id": "c8jKqRMZs04d",
        "colab_type": "code",
        "outputId": "9dfc33f4-fb8f-4b7f-d283-4a2e2827837b",
        "colab": {
          "base_uri": "https://localhost:8080/",
          "height": 34
        }
      },
      "source": [
        "list_mix[0]"
      ],
      "execution_count": 0,
      "outputs": [
        {
          "output_type": "execute_result",
          "data": {
            "text/plain": [
              "2"
            ]
          },
          "metadata": {
            "tags": []
          },
          "execution_count": 4
        }
      ]
    },
    {
      "cell_type": "code",
      "metadata": {
        "id": "9BMvXBPFtE7r",
        "colab_type": "code",
        "outputId": "2d0cdc25-9389-4034-be49-a8b6a92ae652",
        "colab": {
          "base_uri": "https://localhost:8080/",
          "height": 34
        }
      },
      "source": [
        "len(list_int)"
      ],
      "execution_count": 0,
      "outputs": [
        {
          "output_type": "execute_result",
          "data": {
            "text/plain": [
              "4"
            ]
          },
          "metadata": {
            "tags": []
          },
          "execution_count": 5
        }
      ]
    },
    {
      "cell_type": "code",
      "metadata": {
        "id": "yTn6FetGta5b",
        "colab_type": "code",
        "outputId": "380a4a07-27a6-4e6d-9ca8-31ecde520b9d",
        "colab": {
          "base_uri": "https://localhost:8080/",
          "height": 34
        }
      },
      "source": [
        "len(list_mix)"
      ],
      "execution_count": 0,
      "outputs": [
        {
          "output_type": "execute_result",
          "data": {
            "text/plain": [
              "3"
            ]
          },
          "metadata": {
            "tags": []
          },
          "execution_count": 6
        }
      ]
    },
    {
      "cell_type": "code",
      "metadata": {
        "id": "oW82QAfDtlLN",
        "colab_type": "code",
        "outputId": "bdf448b1-1f31-4953-c4ca-97b2f7e7f355",
        "colab": {
          "base_uri": "https://localhost:8080/",
          "height": 168
        }
      },
      "source": [
        "list_int[4]"
      ],
      "execution_count": 0,
      "outputs": [
        {
          "output_type": "error",
          "ename": "IndexError",
          "evalue": "ignored",
          "traceback": [
            "\u001b[0;31m---------------------------------------------------------------------------\u001b[0m",
            "\u001b[0;31mIndexError\u001b[0m                                Traceback (most recent call last)",
            "\u001b[0;32m<ipython-input-7-95da780323a6>\u001b[0m in \u001b[0;36m<module>\u001b[0;34m()\u001b[0m\n\u001b[0;32m----> 1\u001b[0;31m \u001b[0mlist_int\u001b[0m\u001b[0;34m[\u001b[0m\u001b[0;36m4\u001b[0m\u001b[0;34m]\u001b[0m\u001b[0;34m\u001b[0m\u001b[0;34m\u001b[0m\u001b[0m\n\u001b[0m",
            "\u001b[0;31mIndexError\u001b[0m: list index out of range"
          ]
        }
      ]
    },
    {
      "cell_type": "code",
      "metadata": {
        "id": "Fa4OLBdzuAZ0",
        "colab_type": "code",
        "outputId": "1ad13ace-bdd6-4569-afa6-744e92b35923",
        "colab": {
          "base_uri": "https://localhost:8080/",
          "height": 34
        }
      },
      "source": [
        "list_int[3]"
      ],
      "execution_count": 0,
      "outputs": [
        {
          "output_type": "execute_result",
          "data": {
            "text/plain": [
              "3"
            ]
          },
          "metadata": {
            "tags": []
          },
          "execution_count": 8
        }
      ]
    },
    {
      "cell_type": "code",
      "metadata": {
        "id": "6nC4SlJat5A9",
        "colab_type": "code",
        "outputId": "945ad442-984a-4e44-da99-7fd2121cdfa0",
        "colab": {
          "base_uri": "https://localhost:8080/",
          "height": 34
        }
      },
      "source": [
        "list_int[-1] "
      ],
      "execution_count": 0,
      "outputs": [
        {
          "output_type": "execute_result",
          "data": {
            "text/plain": [
              "3"
            ]
          },
          "metadata": {
            "tags": []
          },
          "execution_count": 9
        }
      ]
    },
    {
      "cell_type": "code",
      "metadata": {
        "id": "x1jJ1wQpuwGe",
        "colab_type": "code",
        "outputId": "68f53fd3-2e17-4ce0-dd7e-32a1bc544b3b",
        "colab": {
          "base_uri": "https://localhost:8080/",
          "height": 34
        }
      },
      "source": [
        "list_int[-2]"
      ],
      "execution_count": 0,
      "outputs": [
        {
          "output_type": "execute_result",
          "data": {
            "text/plain": [
              "2"
            ]
          },
          "metadata": {
            "tags": []
          },
          "execution_count": 11
        }
      ]
    },
    {
      "cell_type": "code",
      "metadata": {
        "id": "cjmpaPAa2BpJ",
        "colab_type": "code",
        "outputId": "b247aaf8-fca7-4d0c-dc4c-547dfc0686e7",
        "colab": {
          "base_uri": "https://localhost:8080/",
          "height": 125
        }
      },
      "source": [
        "dict_tohoku = {'aomori': 1.0,'akita':1.1, 'sendai': 1.2, 'yamagata':1.05, 'fukushima':1.11, 'morioka':1.12}\n",
        "for val in dict_tohoku:\n",
        "  print(val)"
      ],
      "execution_count": 0,
      "outputs": [
        {
          "output_type": "stream",
          "text": [
            "aomori\n",
            "akita\n",
            "sendai\n",
            "yamagata\n",
            "fukushima\n",
            "morioka\n"
          ],
          "name": "stdout"
        }
      ]
    },
    {
      "cell_type": "code",
      "metadata": {
        "id": "PYN9H_qt3iql",
        "colab_type": "code",
        "colab": {}
      },
      "source": [
        ""
      ],
      "execution_count": 0,
      "outputs": []
    }
  ]
}